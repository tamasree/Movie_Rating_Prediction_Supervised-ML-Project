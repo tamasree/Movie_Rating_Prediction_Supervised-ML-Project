{
 "cells": [
  {
   "cell_type": "code",
   "execution_count": 1,
   "id": "e98f929d",
   "metadata": {},
   "outputs": [],
   "source": [
    "import pandas as pd\n",
    "import numpy as np"
   ]
  },
  {
   "cell_type": "code",
   "execution_count": 2,
   "id": "a9991282",
   "metadata": {},
   "outputs": [
    {
     "data": {
      "text/html": [
       "<div>\n",
       "<style scoped>\n",
       "    .dataframe tbody tr th:only-of-type {\n",
       "        vertical-align: middle;\n",
       "    }\n",
       "\n",
       "    .dataframe tbody tr th {\n",
       "        vertical-align: top;\n",
       "    }\n",
       "\n",
       "    .dataframe thead th {\n",
       "        text-align: right;\n",
       "    }\n",
       "</style>\n",
       "<table border=\"1\" class=\"dataframe\">\n",
       "  <thead>\n",
       "    <tr style=\"text-align: right;\">\n",
       "      <th></th>\n",
       "      <th>title</th>\n",
       "      <th>rated</th>\n",
       "      <th>released</th>\n",
       "      <th>runtime</th>\n",
       "      <th>director</th>\n",
       "      <th>writer</th>\n",
       "      <th>actors</th>\n",
       "      <th>plot</th>\n",
       "      <th>language</th>\n",
       "      <th>country</th>\n",
       "      <th>...</th>\n",
       "      <th>Jessica Chastain</th>\n",
       "      <th>Chris Evans</th>\n",
       "      <th>Mark Ruffalo</th>\n",
       "      <th>Nicolas Cage</th>\n",
       "      <th>Chloë Grace Moretz</th>\n",
       "      <th>Johnny Depp</th>\n",
       "      <th>Kristen Stewart</th>\n",
       "      <th>Amy Adams</th>\n",
       "      <th>Robert De Niro</th>\n",
       "      <th>Chris Pine</th>\n",
       "    </tr>\n",
       "  </thead>\n",
       "  <tbody>\n",
       "    <tr>\n",
       "      <th>0</th>\n",
       "      <td>Inception</td>\n",
       "      <td>PG-13</td>\n",
       "      <td>2010-07-16</td>\n",
       "      <td>148</td>\n",
       "      <td>Christopher Nolan</td>\n",
       "      <td>Christopher Nolan</td>\n",
       "      <td>Leonardo DiCaprio, Joseph Gordon-Levitt, Ellio...</td>\n",
       "      <td>A thief who steals corporate secrets through t...</td>\n",
       "      <td>English, Japanese, French</td>\n",
       "      <td>United Kingdom, United States</td>\n",
       "      <td>...</td>\n",
       "      <td>NaN</td>\n",
       "      <td>NaN</td>\n",
       "      <td>NaN</td>\n",
       "      <td>NaN</td>\n",
       "      <td>NaN</td>\n",
       "      <td>NaN</td>\n",
       "      <td>NaN</td>\n",
       "      <td>NaN</td>\n",
       "      <td>NaN</td>\n",
       "      <td>NaN</td>\n",
       "    </tr>\n",
       "    <tr>\n",
       "      <th>1</th>\n",
       "      <td>Iron Man 2</td>\n",
       "      <td>PG-13</td>\n",
       "      <td>2010-05-07</td>\n",
       "      <td>124</td>\n",
       "      <td>Jon Favreau</td>\n",
       "      <td>Justin Theroux, Stan Lee, Don Heck</td>\n",
       "      <td>Robert Downey Jr., Mickey Rourke, Gwyneth Paltrow</td>\n",
       "      <td>With the world now aware of his identity as Ir...</td>\n",
       "      <td>English, French, Russian</td>\n",
       "      <td>United States</td>\n",
       "      <td>...</td>\n",
       "      <td>NaN</td>\n",
       "      <td>NaN</td>\n",
       "      <td>NaN</td>\n",
       "      <td>NaN</td>\n",
       "      <td>NaN</td>\n",
       "      <td>NaN</td>\n",
       "      <td>NaN</td>\n",
       "      <td>NaN</td>\n",
       "      <td>NaN</td>\n",
       "      <td>NaN</td>\n",
       "    </tr>\n",
       "    <tr>\n",
       "      <th>2</th>\n",
       "      <td>Shutter Island</td>\n",
       "      <td>R</td>\n",
       "      <td>2010-02-19</td>\n",
       "      <td>138</td>\n",
       "      <td>Martin Scorsese</td>\n",
       "      <td>Laeta Kalogridis, Dennis Lehane</td>\n",
       "      <td>Leonardo DiCaprio, Emily Mortimer, Mark Ruffalo</td>\n",
       "      <td>In 1954, a U.S. Marshal investigates the disap...</td>\n",
       "      <td>English, German</td>\n",
       "      <td>United States</td>\n",
       "      <td>...</td>\n",
       "      <td>NaN</td>\n",
       "      <td>NaN</td>\n",
       "      <td>1.0</td>\n",
       "      <td>NaN</td>\n",
       "      <td>NaN</td>\n",
       "      <td>NaN</td>\n",
       "      <td>NaN</td>\n",
       "      <td>NaN</td>\n",
       "      <td>NaN</td>\n",
       "      <td>NaN</td>\n",
       "    </tr>\n",
       "    <tr>\n",
       "      <th>3</th>\n",
       "      <td>Scott Pilgrim vs. the World</td>\n",
       "      <td>PG-13</td>\n",
       "      <td>2010-08-13</td>\n",
       "      <td>112</td>\n",
       "      <td>Edgar Wright</td>\n",
       "      <td>Michael Bacall, Edgar Wright, Bryan Lee O'Malley</td>\n",
       "      <td>Michael Cera, Mary Elizabeth Winstead, Kieran ...</td>\n",
       "      <td>In a magically realistic version of Toronto, a...</td>\n",
       "      <td>English</td>\n",
       "      <td>United States, United Kingdom, Canada, Japan</td>\n",
       "      <td>...</td>\n",
       "      <td>NaN</td>\n",
       "      <td>NaN</td>\n",
       "      <td>NaN</td>\n",
       "      <td>NaN</td>\n",
       "      <td>NaN</td>\n",
       "      <td>NaN</td>\n",
       "      <td>NaN</td>\n",
       "      <td>NaN</td>\n",
       "      <td>NaN</td>\n",
       "      <td>NaN</td>\n",
       "    </tr>\n",
       "    <tr>\n",
       "      <th>4</th>\n",
       "      <td>Grown Ups</td>\n",
       "      <td>PG-13</td>\n",
       "      <td>2010-06-25</td>\n",
       "      <td>102</td>\n",
       "      <td>Dennis Dugan</td>\n",
       "      <td>Adam Sandler, Fred Wolf</td>\n",
       "      <td>Adam Sandler, Salma Hayek, Kevin James</td>\n",
       "      <td>After their high school basketball coach passe...</td>\n",
       "      <td>English, Spanish</td>\n",
       "      <td>United States</td>\n",
       "      <td>...</td>\n",
       "      <td>NaN</td>\n",
       "      <td>NaN</td>\n",
       "      <td>NaN</td>\n",
       "      <td>NaN</td>\n",
       "      <td>NaN</td>\n",
       "      <td>NaN</td>\n",
       "      <td>NaN</td>\n",
       "      <td>NaN</td>\n",
       "      <td>NaN</td>\n",
       "      <td>NaN</td>\n",
       "    </tr>\n",
       "  </tbody>\n",
       "</table>\n",
       "<p>5 rows × 151 columns</p>\n",
       "</div>"
      ],
      "text/plain": [
       "                         title  rated    released  runtime           director  \\\n",
       "0                    Inception  PG-13  2010-07-16      148  Christopher Nolan   \n",
       "1                   Iron Man 2  PG-13  2010-05-07      124        Jon Favreau   \n",
       "2               Shutter Island      R  2010-02-19      138    Martin Scorsese   \n",
       "3  Scott Pilgrim vs. the World  PG-13  2010-08-13      112       Edgar Wright   \n",
       "4                    Grown Ups  PG-13  2010-06-25      102       Dennis Dugan   \n",
       "\n",
       "                                             writer  \\\n",
       "0                                 Christopher Nolan   \n",
       "1                Justin Theroux, Stan Lee, Don Heck   \n",
       "2                   Laeta Kalogridis, Dennis Lehane   \n",
       "3  Michael Bacall, Edgar Wright, Bryan Lee O'Malley   \n",
       "4                           Adam Sandler, Fred Wolf   \n",
       "\n",
       "                                              actors  \\\n",
       "0  Leonardo DiCaprio, Joseph Gordon-Levitt, Ellio...   \n",
       "1  Robert Downey Jr., Mickey Rourke, Gwyneth Paltrow   \n",
       "2    Leonardo DiCaprio, Emily Mortimer, Mark Ruffalo   \n",
       "3  Michael Cera, Mary Elizabeth Winstead, Kieran ...   \n",
       "4             Adam Sandler, Salma Hayek, Kevin James   \n",
       "\n",
       "                                                plot  \\\n",
       "0  A thief who steals corporate secrets through t...   \n",
       "1  With the world now aware of his identity as Ir...   \n",
       "2  In 1954, a U.S. Marshal investigates the disap...   \n",
       "3  In a magically realistic version of Toronto, a...   \n",
       "4  After their high school basketball coach passe...   \n",
       "\n",
       "                    language                                       country  \\\n",
       "0  English, Japanese, French                 United Kingdom, United States   \n",
       "1   English, French, Russian                                 United States   \n",
       "2            English, German                                 United States   \n",
       "3                    English  United States, United Kingdom, Canada, Japan   \n",
       "4           English, Spanish                                 United States   \n",
       "\n",
       "   ... Jessica Chastain Chris Evans  Mark Ruffalo  Nicolas Cage  \\\n",
       "0  ...              NaN         NaN           NaN           NaN   \n",
       "1  ...              NaN         NaN           NaN           NaN   \n",
       "2  ...              NaN         NaN           1.0           NaN   \n",
       "3  ...              NaN         NaN           NaN           NaN   \n",
       "4  ...              NaN         NaN           NaN           NaN   \n",
       "\n",
       "   Chloë Grace Moretz Johnny Depp  Kristen Stewart  Amy Adams Robert De Niro  \\\n",
       "0                 NaN         NaN              NaN        NaN            NaN   \n",
       "1                 NaN         NaN              NaN        NaN            NaN   \n",
       "2                 NaN         NaN              NaN        NaN            NaN   \n",
       "3                 NaN         NaN              NaN        NaN            NaN   \n",
       "4                 NaN         NaN              NaN        NaN            NaN   \n",
       "\n",
       "  Chris Pine  \n",
       "0        NaN  \n",
       "1        NaN  \n",
       "2        NaN  \n",
       "3        NaN  \n",
       "4        NaN  \n",
       "\n",
       "[5 rows x 151 columns]"
      ]
     },
     "execution_count": 2,
     "metadata": {},
     "output_type": "execute_result"
    }
   ],
   "source": [
    "df = pd.read_csv('one_hot_encode.csv')\n",
    "df.head(5)"
   ]
  },
  {
   "cell_type": "code",
   "execution_count": 3,
   "id": "840b5a19",
   "metadata": {},
   "outputs": [
    {
     "data": {
      "text/html": [
       "<div>\n",
       "<style scoped>\n",
       "    .dataframe tbody tr th:only-of-type {\n",
       "        vertical-align: middle;\n",
       "    }\n",
       "\n",
       "    .dataframe tbody tr th {\n",
       "        vertical-align: top;\n",
       "    }\n",
       "\n",
       "    .dataframe thead th {\n",
       "        text-align: right;\n",
       "    }\n",
       "</style>\n",
       "<table border=\"1\" class=\"dataframe\">\n",
       "  <thead>\n",
       "    <tr style=\"text-align: right;\">\n",
       "      <th></th>\n",
       "      <th>plot</th>\n",
       "    </tr>\n",
       "  </thead>\n",
       "  <tbody>\n",
       "    <tr>\n",
       "      <th>0</th>\n",
       "      <td>A thief who steals corporate secrets through t...</td>\n",
       "    </tr>\n",
       "    <tr>\n",
       "      <th>1</th>\n",
       "      <td>With the world now aware of his identity as Ir...</td>\n",
       "    </tr>\n",
       "    <tr>\n",
       "      <th>2</th>\n",
       "      <td>In 1954, a U.S. Marshal investigates the disap...</td>\n",
       "    </tr>\n",
       "    <tr>\n",
       "      <th>3</th>\n",
       "      <td>In a magically realistic version of Toronto, a...</td>\n",
       "    </tr>\n",
       "    <tr>\n",
       "      <th>4</th>\n",
       "      <td>After their high school basketball coach passe...</td>\n",
       "    </tr>\n",
       "  </tbody>\n",
       "</table>\n",
       "</div>"
      ],
      "text/plain": [
       "                                                plot\n",
       "0  A thief who steals corporate secrets through t...\n",
       "1  With the world now aware of his identity as Ir...\n",
       "2  In 1954, a U.S. Marshal investigates the disap...\n",
       "3  In a magically realistic version of Toronto, a...\n",
       "4  After their high school basketball coach passe..."
      ]
     },
     "execution_count": 3,
     "metadata": {},
     "output_type": "execute_result"
    }
   ],
   "source": [
    "plot_df = df[[\"plot\"]]\n",
    "plot_df.head()"
   ]
  },
  {
   "cell_type": "code",
   "execution_count": 4,
   "id": "a03f8eef",
   "metadata": {},
   "outputs": [],
   "source": [
    "import nltk"
   ]
  },
  {
   "cell_type": "code",
   "execution_count": 5,
   "id": "8f920e5d",
   "metadata": {},
   "outputs": [
    {
     "name": "stdout",
     "output_type": "stream",
     "text": [
      "A thief who steals corporate secrets through the use of dream-sharing technology is given the inverse task of planting an idea into the mind of a C.E.O., but his tragic past may doom the project and his team to disaster.\n",
      "1\n",
      "Total words in this row: 220\n"
     ]
    }
   ],
   "source": [
    "testing = plot_df[\"plot\"][0]\n",
    "print(testing)\n",
    "print(testing.count(\"thief\"))\n",
    "print(f\"Total words in this row: {len(testing)}\")"
   ]
  },
  {
   "cell_type": "code",
   "execution_count": 6,
   "id": "52d0d220",
   "metadata": {},
   "outputs": [
    {
     "name": "stdout",
     "output_type": "stream",
     "text": [
      "31\n",
      "[(' ', 39), ('t', 20), ('e', 19), ('a', 15), ('o', 14), ('s', 14), ('i', 13), ('h', 12), ('r', 10), ('n', 10), ('g', 6), ('d', 6), ('c', 5), ('m', 5), ('f', 4), ('p', 4), ('.', 4), ('l', 3), ('u', 3), ('y', 2)]\n"
     ]
    }
   ],
   "source": [
    "vocab = nltk.FreqDist(testing)\n",
    "print(len(vocab))\n",
    "print(vocab.most_common(20))"
   ]
  },
  {
   "cell_type": "code",
   "execution_count": 8,
   "id": "ceaee414",
   "metadata": {},
   "outputs": [
    {
     "name": "stdout",
     "output_type": "stream",
     "text": [
      "[('plot', 1)]\n"
     ]
    }
   ],
   "source": [
    "durp = nltk.FreqDist(plot_df)\n",
    "mc = sorted([w for w in durp.most_common(100) if len(w[0]) > 3], key=lambda x: x[1], reverse=True)\n",
    "print(mc)"
   ]
  },
  {
   "cell_type": "code",
   "execution_count": 9,
   "id": "e34bf045",
   "metadata": {},
   "outputs": [
    {
     "name": "stdout",
     "output_type": "stream",
     "text": [
      "!\"#$%&'()*+,-./:;<=>?@[\\]^_`{|}~\n"
     ]
    }
   ],
   "source": [
    "# Import this to strip out punctuation\n",
    "from string import punctuation\n",
    "print(punctuation)"
   ]
  },
  {
   "cell_type": "code",
   "execution_count": 10,
   "id": "38595bca",
   "metadata": {},
   "outputs": [
    {
     "name": "stdout",
     "output_type": "stream",
     "text": [
      "['A', ' ', 't', 'h', 'i', 'e', 'f', ' ', 'w', 'h', 'o', ' ', 's', 't', 'e', 'a', 'l', 's', ' ', 'c', 'o', 'r', 'p', 'o', 'r', 'a', 't', 'e', ' ', 's', 'e', 'c', 'r', 'e', 't', 's', ' ', 't', 'h', 'r', 'o', 'u', 'g', 'h', ' ', 't', 'h', 'e', ' ', 'u', 's', 'e', ' ', 'o', 'f', ' ', 'd', 'r', 'e', 'a', 'm', 's', 'h', 'a', 'r', 'i', 'n', 'g', ' ', 't', 'e', 'c', 'h', 'n', 'o', 'l', 'o', 'g', 'y', ' ', 'i', 's', ' ', 'g', 'i', 'v', 'e', 'n', ' ', 't', 'h', 'e', ' ', 'i', 'n', 'v', 'e', 'r', 's', 'e', ' ', 't', 'a', 's', 'k', ' ', 'o', 'f', ' ', 'p', 'l', 'a', 'n', 't', 'i', 'n', 'g', ' ', 'a', 'n', ' ', 'i', 'd', 'e', 'a', ' ', 'i', 'n', 't', 'o', ' ', 't', 'h', 'e', ' ', 'm', 'i', 'n', 'd', ' ', 'o', 'f', ' ', 'a', ' ', 'C', 'E', 'O', ' ', 'b', 'u', 't', ' ', 'h', 'i', 's', ' ', 't', 'r', 'a', 'g', 'i', 'c', ' ', 'p', 'a', 's', 't', ' ', 'm', 'a', 'y', ' ', 'd', 'o', 'o', 'm', ' ', 't', 'h', 'e', ' ', 'p', 'r', 'o', 'j', 'e', 'c', 't', ' ', 'a', 'n', 'd', ' ', 'h', 'i', 's', ' ', 't', 'e', 'a', 'm', ' ', 't', 'o', ' ', 'd', 'i', 's', 'a', 's', 't', 'e', 'r']\n"
     ]
    }
   ],
   "source": [
    "# List comprehension\n",
    "without_punct = [w for w in testing if w not in punctuation]\n",
    "print(without_punct)"
   ]
  },
  {
   "cell_type": "code",
   "execution_count": 11,
   "id": "ac33b4a6",
   "metadata": {},
   "outputs": [
    {
     "name": "stdout",
     "output_type": "stream",
     "text": [
      "['i', 'me', 'my', 'myself', 'we', 'our', 'ours', 'ourselves', 'you', \"you're\", \"you've\", \"you'll\", \"you'd\", 'your', 'yours', 'yourself', 'yourselves', 'he', 'him', 'his', 'himself', 'she', \"she's\", 'her', 'hers', 'herself', 'it', \"it's\", 'its', 'itself', 'they', 'them', 'their', 'theirs', 'themselves', 'what', 'which', 'who', 'whom', 'this', 'that', \"that'll\", 'these', 'those', 'am', 'is', 'are', 'was', 'were', 'be', 'been', 'being', 'have', 'has', 'had', 'having', 'do', 'does', 'did', 'doing', 'a', 'an', 'the', 'and', 'but', 'if', 'or', 'because', 'as', 'until', 'while', 'of', 'at', 'by', 'for', 'with', 'about', 'against', 'between', 'into', 'through', 'during', 'before', 'after', 'above', 'below', 'to', 'from', 'up', 'down', 'in', 'out', 'on', 'off', 'over', 'under', 'again', 'further', 'then', 'once', 'here', 'there', 'when', 'where', 'why', 'how', 'all', 'any', 'both', 'each', 'few', 'more', 'most', 'other', 'some', 'such', 'no', 'nor', 'not', 'only', 'own', 'same', 'so', 'than', 'too', 'very', 's', 't', 'can', 'will', 'just', 'don', \"don't\", 'should', \"should've\", 'now', 'd', 'll', 'm', 'o', 're', 've', 'y', 'ain', 'aren', \"aren't\", 'couldn', \"couldn't\", 'didn', \"didn't\", 'doesn', \"doesn't\", 'hadn', \"hadn't\", 'hasn', \"hasn't\", 'haven', \"haven't\", 'isn', \"isn't\", 'ma', 'mightn', \"mightn't\", 'mustn', \"mustn't\", 'needn', \"needn't\", 'shan', \"shan't\", 'shouldn', \"shouldn't\", 'wasn', \"wasn't\", 'weren', \"weren't\", 'won', \"won't\", 'wouldn', \"wouldn't\"]\n"
     ]
    }
   ],
   "source": [
    "# To delete all stop words\n",
    "from nltk.corpus import stopwords\n",
    "sw = stopwords.words(\"english\")\n",
    "print(sw)"
   ]
  },
  {
   "cell_type": "code",
   "execution_count": 12,
   "id": "26f6ca82",
   "metadata": {},
   "outputs": [
    {
     "name": "stdout",
     "output_type": "stream",
     "text": [
      "125\n",
      "['A', ' ', 'h', 'e', 'f', ' ', 'w', 'h', ' ', 'e', 'l', ' ', 'c', 'r', 'p', 'r', 'e', ' ', 'e', 'c', 'r', 'e', ' ', 'h', 'r', 'u', 'g', 'h', ' ', 'h', 'e', ' ', 'u', 'e', ' ', 'f', ' ', 'r', 'e', 'h', 'r', 'n', 'g', ' ', 'e', 'c', 'h', 'n', 'l', 'g', ' ', ' ', 'g', 'v', 'e', 'n', ' ', 'h', 'e', ' ', 'n', 'v', 'e', 'r', 'e', ' ', 'k', ' ', 'f', ' ', 'p', 'l', 'n', 'n', 'g', ' ', 'n', ' ', 'e', ' ', 'n', ' ', 'h', 'e', ' ', 'n', ' ', 'f', ' ', ' ', 'C', 'E', 'O', ' ', 'b', 'u', ' ', 'h', ' ', 'r', 'g', 'c', ' ', 'p', ' ', ' ', ' ', 'h', 'e', ' ', 'p', 'r', 'j', 'e', 'c', ' ', 'n', ' ', 'h', ' ', 'e', ' ', ' ', 'e', 'r']\n"
     ]
    }
   ],
   "source": [
    "# Print without stop words\n",
    "without_sw = [w for w in without_punct if w not in sw]\n",
    "print(len(without_sw))\n",
    "print(without_sw)"
   ]
  },
  {
   "cell_type": "code",
   "execution_count": 13,
   "id": "117db497",
   "metadata": {},
   "outputs": [
    {
     "name": "stdout",
     "output_type": "stream",
     "text": [
      "is is\n",
      "are are\n",
      "bought bought\n",
      "buys buy\n",
      "giving give\n",
      "jumps jump\n",
      "jumped jump\n",
      "birds bird\n",
      "thief thief\n",
      "do do\n",
      "does doe\n",
      "did did\n",
      "doing do\n"
     ]
    }
   ],
   "source": [
    "# Testing PorterStemmer\n",
    "from nltk.stem.porter import PorterStemmer\n",
    "st = PorterStemmer()\n",
    "words = [\"is\", \"are\", \"bought\", \"buys\", \"giving\", \"jumps\", \"jumped\", \"birds\", \"thief\", \"do\", \"does\", \"did\", \"doing\"]\n",
    "for word in words:\n",
    "    print(word, st.stem(word))"
   ]
  },
  {
   "cell_type": "code",
   "execution_count": 14,
   "id": "0d7dd401",
   "metadata": {},
   "outputs": [
    {
     "name": "stdout",
     "output_type": "stream",
     "text": [
      "['A thief who steals corporate secrets through the use of dream-sharing technology is given the inverse task of planting an idea into the mind of a C.E.O., but his tragic past may doom the project and his team to disaster.']\n",
      "['A', 'thief', 'who', 'steals', 'corporate', 'secrets', 'through', 'the', 'use', 'of', 'dream-sharing', 'technology', 'is', 'given', 'the', 'inverse', 'task', 'of', 'planting', 'an', 'idea', 'into', 'the', 'mind', 'of', 'a', 'C.E.O.', ',', 'but', 'his', 'tragic', 'past', 'may', 'doom', 'the', 'project', 'and', 'his', 'team', 'to', 'disaster', '.']\n"
     ]
    }
   ],
   "source": [
    "# Sentence and word tokenizers\n",
    "from nltk.tokenize import sent_tokenize, word_tokenize\n",
    "print(sent_tokenize(testing))\n",
    "print(word_tokenize(testing))"
   ]
  },
  {
   "cell_type": "code",
   "execution_count": 15,
   "id": "4c4bed23",
   "metadata": {},
   "outputs": [
    {
     "name": "stdout",
     "output_type": "stream",
     "text": [
      "[('A', 'DT'), ('thief', 'NN'), ('who', 'WP'), ('steals', 'VBZ'), ('corporate', 'JJ'), ('secrets', 'NNS'), ('through', 'IN'), ('the', 'DT'), ('use', 'NN'), ('of', 'IN'), ('dream-sharing', 'JJ'), ('technology', 'NN'), ('is', 'VBZ'), ('given', 'VBN'), ('the', 'DT'), ('inverse', 'JJ'), ('task', 'NN'), ('of', 'IN'), ('planting', 'VBG'), ('an', 'DT'), ('idea', 'NN'), ('into', 'IN'), ('the', 'DT'), ('mind', 'NN'), ('of', 'IN'), ('a', 'DT'), ('C.E.O.,', 'NNP'), ('but', 'CC'), ('his', 'PRP$'), ('tragic', 'JJ'), ('past', 'NN'), ('may', 'MD'), ('doom', 'VB'), ('the', 'DT'), ('project', 'NN'), ('and', 'CC'), ('his', 'PRP$'), ('team', 'NN'), ('to', 'TO'), ('disaster.', 'VB')]\n",
      "[('A', 'DET'), ('thief', 'NOUN'), ('who', 'PRON'), ('steals', 'VERB'), ('corporate', 'ADJ'), ('secrets', 'NOUN'), ('through', 'ADP'), ('the', 'DET'), ('use', 'NOUN'), ('of', 'ADP'), ('dream-sharing', 'ADJ'), ('technology', 'NOUN'), ('is', 'VERB'), ('given', 'VERB'), ('the', 'DET'), ('inverse', 'ADJ'), ('task', 'NOUN'), ('of', 'ADP'), ('planting', 'VERB'), ('an', 'DET'), ('idea', 'NOUN'), ('into', 'ADP'), ('the', 'DET'), ('mind', 'NOUN'), ('of', 'ADP'), ('a', 'DET'), ('C.E.O.,', 'NOUN'), ('but', 'CONJ'), ('his', 'PRON'), ('tragic', 'ADJ'), ('past', 'NOUN'), ('may', 'VERB'), ('doom', 'VERB'), ('the', 'DET'), ('project', 'NOUN'), ('and', 'CONJ'), ('his', 'PRON'), ('team', 'NOUN'), ('to', 'PRT'), ('disaster.', 'VERB')]\n"
     ]
    }
   ],
   "source": [
    "# Parts of speech tagging\n",
    "my_pos = testing.split()\n",
    "print(nltk.pos_tag(my_pos))\n",
    "print(nltk.pos_tag(my_pos, tagset=\"universal\"))"
   ]
  },
  {
   "cell_type": "code",
   "execution_count": null,
   "id": "a28eb6cd",
   "metadata": {},
   "outputs": [],
   "source": []
  }
 ],
 "metadata": {
  "kernelspec": {
   "display_name": "Python 3",
   "language": "python",
   "name": "python3"
  },
  "language_info": {
   "codemirror_mode": {
    "name": "ipython",
    "version": 3
   },
   "file_extension": ".py",
   "mimetype": "text/x-python",
   "name": "python",
   "nbconvert_exporter": "python",
   "pygments_lexer": "ipython3",
   "version": "3.8.8"
  }
 },
 "nbformat": 4,
 "nbformat_minor": 5
}
