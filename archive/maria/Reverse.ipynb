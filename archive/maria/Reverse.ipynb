{
 "cells": [
  {
   "cell_type": "code",
   "execution_count": 1,
   "id": "33f6128d",
   "metadata": {},
   "outputs": [],
   "source": [
    "import pandas as pd\n",
    "from nltk.corpus import stopwords\n",
    "from nltk.tokenize import word_tokenize\n",
    "from nltk.stem import PorterStemmer, WordNetLemmatizer\n",
    "stop_words=stopwords.words('english')\n",
    "from sklearn.feature_extraction.text import TfidfVectorizer,CountVectorizer\n",
    "from nltk.tokenize.treebank import TreebankWordDetokenizer\n"
   ]
  },
  {
   "cell_type": "code",
   "execution_count": 2,
   "id": "8a9a1768",
   "metadata": {},
   "outputs": [],
   "source": [
    "Text =\"My Blue cars is going to change, the World for ever.\""
   ]
  },
  {
   "cell_type": "code",
   "execution_count": 3,
   "id": "9df5e992",
   "metadata": {},
   "outputs": [
    {
     "data": {
      "text/plain": [
       "'My Blue cars is going to change, the World for ever.'"
      ]
     },
     "execution_count": 3,
     "metadata": {},
     "output_type": "execute_result"
    }
   ],
   "source": [
    "Text"
   ]
  },
  {
   "cell_type": "code",
   "execution_count": 4,
   "id": "9bb2e3e4",
   "metadata": {},
   "outputs": [],
   "source": [
    "punctuation = '''!()-[]{};:'\"\\,<>./?@#$%^&*_~'''\n",
    "s = Text\n",
    "for c in s:\n",
    "  if c in punctuation:\n",
    "    s = s.replace(c, \"\")"
   ]
  },
  {
   "cell_type": "code",
   "execution_count": 5,
   "id": "baf6a2e3",
   "metadata": {},
   "outputs": [
    {
     "data": {
      "text/plain": [
       "'My Blue cars is going to change the World for ever'"
      ]
     },
     "execution_count": 5,
     "metadata": {},
     "output_type": "execute_result"
    }
   ],
   "source": [
    "Text =s\n",
    "Text"
   ]
  },
  {
   "cell_type": "code",
   "execution_count": 6,
   "id": "c24b38c5",
   "metadata": {},
   "outputs": [],
   "source": [
    "lemmatizer=WordNetLemmatizer()\n",
    "word_tokens = word_tokenize(Text)"
   ]
  },
  {
   "cell_type": "code",
   "execution_count": null,
   "id": "3862accf",
   "metadata": {},
   "outputs": [],
   "source": [
    "   "
   ]
  },
  {
   "cell_type": "code",
   "execution_count": 7,
   "id": "9b495e0c",
   "metadata": {},
   "outputs": [
    {
     "name": "stdout",
     "output_type": "stream",
     "text": [
      "['My', 'Blue', 'car', 'going', 'change', 'World', 'ever']\n"
     ]
    }
   ],
   "source": [
    "filtered_sentence = [] \n",
    "for w in word_tokens:\n",
    "        if w not in stop_words:\n",
    "            filtered_sentence.append(lemmatizer.lemmatize(w))\n",
    "print (filtered_sentence)"
   ]
  },
  {
   "cell_type": "code",
   "execution_count": 8,
   "id": "a41dc390",
   "metadata": {},
   "outputs": [],
   "source": [
    "Text =TreebankWordDetokenizer().detokenize(filtered_sentence)"
   ]
  },
  {
   "cell_type": "code",
   "execution_count": 9,
   "id": "e7dd5fdf",
   "metadata": {},
   "outputs": [
    {
     "data": {
      "text/plain": [
       "'My Blue car going change World ever'"
      ]
     },
     "execution_count": 9,
     "metadata": {},
     "output_type": "execute_result"
    }
   ],
   "source": [
    "Text"
   ]
  },
  {
   "cell_type": "code",
   "execution_count": 16,
   "id": "965eebf8",
   "metadata": {},
   "outputs": [],
   "source": [
    "\n",
    "import joblib\n",
    "tfIdfVectorizer= joblib.load(\"tdidf.joblib\")"
   ]
  },
  {
   "cell_type": "code",
   "execution_count": null,
   "id": "a1a2545c",
   "metadata": {},
   "outputs": [],
   "source": []
  },
  {
   "cell_type": "code",
   "execution_count": null,
   "id": "469f2fc4",
   "metadata": {},
   "outputs": [],
   "source": []
  },
  {
   "cell_type": "code",
   "execution_count": 17,
   "id": "c0f1ada2",
   "metadata": {},
   "outputs": [],
   "source": [
    "tfIdf = tfIdfVectorizer.transform([Text])"
   ]
  },
  {
   "cell_type": "code",
   "execution_count": 18,
   "id": "e149ed85",
   "metadata": {},
   "outputs": [
    {
     "data": {
      "text/plain": [
       "array([[0., 0., 0., 0., 0., 0., 0., 0., 0., 0., 0., 0., 0., 0., 0., 0.,\n",
       "        0., 0., 0., 0., 0., 0., 0., 0., 0., 0., 0., 0., 0., 0., 0., 0.,\n",
       "        0., 0., 0., 0., 0., 0., 0., 0., 0., 0., 0., 0., 0., 0., 0., 0.,\n",
       "        0., 0., 0., 0., 0., 0., 0., 0., 0., 0., 0., 0., 0., 0., 0., 0.,\n",
       "        0., 0., 1., 0., 0., 0.]])"
      ]
     },
     "execution_count": 18,
     "metadata": {},
     "output_type": "execute_result"
    }
   ],
   "source": [
    "tfIdf.toarray()"
   ]
  },
  {
   "cell_type": "code",
   "execution_count": 32,
   "id": "92f5a3b5",
   "metadata": {},
   "outputs": [
    {
     "name": "stderr",
     "output_type": "stream",
     "text": [
      "C:\\Users\\edipa\\anaconda3\\envs\\tfenv\\lib\\site-packages\\sklearn\\utils\\deprecation.py:87: FutureWarning: Function get_feature_names is deprecated; get_feature_names is deprecated in 1.0 and will be removed in 1.2. Please use get_feature_names_out instead.\n",
      "  warnings.warn(msg, category=FutureWarning)\n"
     ]
    }
   ],
   "source": [
    "index=tfIdfVectorizer.get_feature_names()"
   ]
  },
  {
   "cell_type": "code",
   "execution_count": 33,
   "id": "0aaf3b99",
   "metadata": {},
   "outputs": [
    {
     "data": {
      "text/plain": [
       "['blue', 'car', 'change', 'going', 'world']"
      ]
     },
     "execution_count": 33,
     "metadata": {},
     "output_type": "execute_result"
    }
   ],
   "source": [
    "index"
   ]
  },
  {
   "cell_type": "code",
   "execution_count": 34,
   "id": "7ba1ad3d",
   "metadata": {},
   "outputs": [],
   "source": [
    "top_features = pd.DataFrame(tfIdf[0].T.todense(), index=tfIdfVectorizer.get_feature_names(), columns=[\"TF-IDF\"])\n"
   ]
  },
  {
   "cell_type": "code",
   "execution_count": 35,
   "id": "6bbba0f1",
   "metadata": {},
   "outputs": [
    {
     "data": {
      "text/plain": [
       "matrix([[0.4472136],\n",
       "        [0.4472136],\n",
       "        [0.4472136],\n",
       "        [0.4472136],\n",
       "        [0.4472136]])"
      ]
     },
     "execution_count": 35,
     "metadata": {},
     "output_type": "execute_result"
    }
   ],
   "source": [
    "tfIdf[0].T.todense()"
   ]
  },
  {
   "cell_type": "code",
   "execution_count": 36,
   "id": "2192e169",
   "metadata": {},
   "outputs": [
    {
     "data": {
      "text/html": [
       "<div>\n",
       "<style scoped>\n",
       "    .dataframe tbody tr th:only-of-type {\n",
       "        vertical-align: middle;\n",
       "    }\n",
       "\n",
       "    .dataframe tbody tr th {\n",
       "        vertical-align: top;\n",
       "    }\n",
       "\n",
       "    .dataframe thead th {\n",
       "        text-align: right;\n",
       "    }\n",
       "</style>\n",
       "<table border=\"1\" class=\"dataframe\">\n",
       "  <thead>\n",
       "    <tr style=\"text-align: right;\">\n",
       "      <th></th>\n",
       "      <th>TF-IDF</th>\n",
       "    </tr>\n",
       "  </thead>\n",
       "  <tbody>\n",
       "    <tr>\n",
       "      <th>blue</th>\n",
       "      <td>0.447214</td>\n",
       "    </tr>\n",
       "    <tr>\n",
       "      <th>car</th>\n",
       "      <td>0.447214</td>\n",
       "    </tr>\n",
       "    <tr>\n",
       "      <th>change</th>\n",
       "      <td>0.447214</td>\n",
       "    </tr>\n",
       "    <tr>\n",
       "      <th>going</th>\n",
       "      <td>0.447214</td>\n",
       "    </tr>\n",
       "    <tr>\n",
       "      <th>world</th>\n",
       "      <td>0.447214</td>\n",
       "    </tr>\n",
       "  </tbody>\n",
       "</table>\n",
       "</div>"
      ],
      "text/plain": [
       "          TF-IDF\n",
       "blue    0.447214\n",
       "car     0.447214\n",
       "change  0.447214\n",
       "going   0.447214\n",
       "world   0.447214"
      ]
     },
     "execution_count": 36,
     "metadata": {},
     "output_type": "execute_result"
    }
   ],
   "source": [
    "top_features"
   ]
  },
  {
   "cell_type": "code",
   "execution_count": 37,
   "id": "2f4a379f",
   "metadata": {},
   "outputs": [],
   "source": [
    "top_features = top_features.sort_values('TF-IDF', ascending=False).index.tolist()"
   ]
  },
  {
   "cell_type": "code",
   "execution_count": 38,
   "id": "84cacd77",
   "metadata": {},
   "outputs": [
    {
     "name": "stdout",
     "output_type": "stream",
     "text": [
      "TOP WORDS\n",
      "['blue', 'car', 'change', 'going', 'world']\n"
     ]
    }
   ],
   "source": [
    "print('TOP WORDS')\n",
    "print(top_features)"
   ]
  },
  {
   "cell_type": "code",
   "execution_count": 42,
   "id": "0761e0ae",
   "metadata": {},
   "outputs": [],
   "source": []
  },
  {
   "cell_type": "code",
   "execution_count": 104,
   "id": "45fa351e",
   "metadata": {},
   "outputs": [],
   "source": [
    "#Convert the Top words to a list and when you find those words in your features\n",
    "#just mark them with the value from the array the rest just mark with zero\n",
    "#Lets say we only have blue and change in our features then your array will look like this to feed the model"
   ]
  },
  {
   "cell_type": "code",
   "execution_count": null,
   "id": "99d271f2",
   "metadata": {},
   "outputs": [],
   "source": [
    "[0.4472136,0,0,0,0,0,0,0,0.4472136,0,0,0,0,0,0,0,0,0,0,0,0,0,0,0,0,0,0,0,0,0,0,0,0,0,0,0,0,.....so on until 70]"
   ]
  }
 ],
 "metadata": {
  "kernelspec": {
   "display_name": "Python 3 (ipykernel)",
   "language": "python",
   "name": "python3"
  },
  "language_info": {
   "codemirror_mode": {
    "name": "ipython",
    "version": 3
   },
   "file_extension": ".py",
   "mimetype": "text/x-python",
   "name": "python",
   "nbconvert_exporter": "python",
   "pygments_lexer": "ipython3",
   "version": "3.8.12"
  }
 },
 "nbformat": 4,
 "nbformat_minor": 5
}
