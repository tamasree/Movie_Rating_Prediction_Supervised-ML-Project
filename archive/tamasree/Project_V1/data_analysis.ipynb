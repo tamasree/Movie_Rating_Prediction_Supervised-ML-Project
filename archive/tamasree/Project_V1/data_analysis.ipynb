{
 "cells": [
  {
   "cell_type": "code",
   "execution_count": 154,
   "id": "b9638d91-53f1-41ba-a8bf-797abc72cfa7",
   "metadata": {},
   "outputs": [],
   "source": [
    "import pandas as pd\n",
    "from collections import Counter\n"
   ]
  },
  {
   "cell_type": "code",
   "execution_count": 155,
   "id": "0eeff883-9ad4-40d0-b42b-2206e7c36abd",
   "metadata": {},
   "outputs": [
    {
     "data": {
      "text/html": [
       "<div>\n",
       "<style scoped>\n",
       "    .dataframe tbody tr th:only-of-type {\n",
       "        vertical-align: middle;\n",
       "    }\n",
       "\n",
       "    .dataframe tbody tr th {\n",
       "        vertical-align: top;\n",
       "    }\n",
       "\n",
       "    .dataframe thead th {\n",
       "        text-align: right;\n",
       "    }\n",
       "</style>\n",
       "<table border=\"1\" class=\"dataframe\">\n",
       "  <thead>\n",
       "    <tr style=\"text-align: right;\">\n",
       "      <th></th>\n",
       "      <th>title</th>\n",
       "      <th>rated</th>\n",
       "      <th>released</th>\n",
       "      <th>runtime</th>\n",
       "      <th>director</th>\n",
       "      <th>writer</th>\n",
       "      <th>actors</th>\n",
       "      <th>plot</th>\n",
       "      <th>language</th>\n",
       "      <th>country</th>\n",
       "      <th>...</th>\n",
       "      <th>boxoffice</th>\n",
       "      <th>response</th>\n",
       "      <th>genre</th>\n",
       "      <th>star</th>\n",
       "      <th>budget</th>\n",
       "      <th>gross</th>\n",
       "      <th>year</th>\n",
       "      <th>internet_movie_database_rating</th>\n",
       "      <th>rotten_tomato_rating</th>\n",
       "      <th>metacritic_rating</th>\n",
       "    </tr>\n",
       "  </thead>\n",
       "  <tbody>\n",
       "    <tr>\n",
       "      <th>0</th>\n",
       "      <td>Inception</td>\n",
       "      <td>PG-13</td>\n",
       "      <td>2010-07-16</td>\n",
       "      <td>148</td>\n",
       "      <td>Christopher Nolan</td>\n",
       "      <td>Christopher Nolan</td>\n",
       "      <td>Leonardo DiCaprio, Joseph Gordon-Levitt, Ellio...</td>\n",
       "      <td>A thief who steals corporate secrets through t...</td>\n",
       "      <td>English, Japanese, French</td>\n",
       "      <td>United Kingdom, United States</td>\n",
       "      <td>...</td>\n",
       "      <td>292576195.0</td>\n",
       "      <td>True</td>\n",
       "      <td>Action</td>\n",
       "      <td>Leonardo DiCaprio</td>\n",
       "      <td>160000000.0</td>\n",
       "      <td>836836967.0</td>\n",
       "      <td>2010</td>\n",
       "      <td>8.8</td>\n",
       "      <td>87.0</td>\n",
       "      <td>74.0</td>\n",
       "    </tr>\n",
       "    <tr>\n",
       "      <th>1</th>\n",
       "      <td>Iron Man 2</td>\n",
       "      <td>PG-13</td>\n",
       "      <td>2010-05-07</td>\n",
       "      <td>124</td>\n",
       "      <td>Jon Favreau</td>\n",
       "      <td>Justin Theroux, Stan Lee, Don Heck</td>\n",
       "      <td>Robert Downey Jr., Mickey Rourke, Gwyneth Paltrow</td>\n",
       "      <td>With the world now aware of his identity as Ir...</td>\n",
       "      <td>English, French, Russian</td>\n",
       "      <td>United States</td>\n",
       "      <td>...</td>\n",
       "      <td>312433331.0</td>\n",
       "      <td>True</td>\n",
       "      <td>Action</td>\n",
       "      <td>Robert Downey Jr.</td>\n",
       "      <td>200000000.0</td>\n",
       "      <td>623933331.0</td>\n",
       "      <td>2010</td>\n",
       "      <td>7.0</td>\n",
       "      <td>72.0</td>\n",
       "      <td>57.0</td>\n",
       "    </tr>\n",
       "    <tr>\n",
       "      <th>2</th>\n",
       "      <td>Shutter Island</td>\n",
       "      <td>R</td>\n",
       "      <td>2010-02-19</td>\n",
       "      <td>138</td>\n",
       "      <td>Martin Scorsese</td>\n",
       "      <td>Laeta Kalogridis, Dennis Lehane</td>\n",
       "      <td>Leonardo DiCaprio, Emily Mortimer, Mark Ruffalo</td>\n",
       "      <td>In 1954, a U.S. Marshal investigates the disap...</td>\n",
       "      <td>English, German</td>\n",
       "      <td>United States</td>\n",
       "      <td>...</td>\n",
       "      <td>128012934.0</td>\n",
       "      <td>True</td>\n",
       "      <td>Mystery</td>\n",
       "      <td>Leonardo DiCaprio</td>\n",
       "      <td>80000000.0</td>\n",
       "      <td>294805697.0</td>\n",
       "      <td>2010</td>\n",
       "      <td>8.2</td>\n",
       "      <td>68.0</td>\n",
       "      <td>63.0</td>\n",
       "    </tr>\n",
       "    <tr>\n",
       "      <th>3</th>\n",
       "      <td>Scott Pilgrim vs. the World</td>\n",
       "      <td>PG-13</td>\n",
       "      <td>2010-08-13</td>\n",
       "      <td>112</td>\n",
       "      <td>Edgar Wright</td>\n",
       "      <td>Michael Bacall, Edgar Wright, Bryan Lee O'Malley</td>\n",
       "      <td>Michael Cera, Mary Elizabeth Winstead, Kieran ...</td>\n",
       "      <td>In a magically realistic version of Toronto, a...</td>\n",
       "      <td>English</td>\n",
       "      <td>United States, United Kingdom, Canada, Japan</td>\n",
       "      <td>...</td>\n",
       "      <td>32777690.0</td>\n",
       "      <td>True</td>\n",
       "      <td>Action</td>\n",
       "      <td>Michael Cera</td>\n",
       "      <td>60000000.0</td>\n",
       "      <td>48917974.0</td>\n",
       "      <td>2010</td>\n",
       "      <td>7.5</td>\n",
       "      <td>82.0</td>\n",
       "      <td>69.0</td>\n",
       "    </tr>\n",
       "    <tr>\n",
       "      <th>4</th>\n",
       "      <td>Grown Ups</td>\n",
       "      <td>PG-13</td>\n",
       "      <td>2010-06-25</td>\n",
       "      <td>102</td>\n",
       "      <td>Dennis Dugan</td>\n",
       "      <td>Adam Sandler, Fred Wolf</td>\n",
       "      <td>Adam Sandler, Salma Hayek, Kevin James</td>\n",
       "      <td>After their high school basketball coach passe...</td>\n",
       "      <td>English, Spanish</td>\n",
       "      <td>United States</td>\n",
       "      <td>...</td>\n",
       "      <td>162001186.0</td>\n",
       "      <td>True</td>\n",
       "      <td>Comedy</td>\n",
       "      <td>Adam Sandler</td>\n",
       "      <td>80000000.0</td>\n",
       "      <td>271457301.0</td>\n",
       "      <td>2010</td>\n",
       "      <td>6.0</td>\n",
       "      <td>11.0</td>\n",
       "      <td>30.0</td>\n",
       "    </tr>\n",
       "  </tbody>\n",
       "</table>\n",
       "<p>5 rows × 25 columns</p>\n",
       "</div>"
      ],
      "text/plain": [
       "                         title  rated    released  runtime           director  \\\n",
       "0                    Inception  PG-13  2010-07-16      148  Christopher Nolan   \n",
       "1                   Iron Man 2  PG-13  2010-05-07      124        Jon Favreau   \n",
       "2               Shutter Island      R  2010-02-19      138    Martin Scorsese   \n",
       "3  Scott Pilgrim vs. the World  PG-13  2010-08-13      112       Edgar Wright   \n",
       "4                    Grown Ups  PG-13  2010-06-25      102       Dennis Dugan   \n",
       "\n",
       "                                             writer  \\\n",
       "0                                 Christopher Nolan   \n",
       "1                Justin Theroux, Stan Lee, Don Heck   \n",
       "2                   Laeta Kalogridis, Dennis Lehane   \n",
       "3  Michael Bacall, Edgar Wright, Bryan Lee O'Malley   \n",
       "4                           Adam Sandler, Fred Wolf   \n",
       "\n",
       "                                              actors  \\\n",
       "0  Leonardo DiCaprio, Joseph Gordon-Levitt, Ellio...   \n",
       "1  Robert Downey Jr., Mickey Rourke, Gwyneth Paltrow   \n",
       "2    Leonardo DiCaprio, Emily Mortimer, Mark Ruffalo   \n",
       "3  Michael Cera, Mary Elizabeth Winstead, Kieran ...   \n",
       "4             Adam Sandler, Salma Hayek, Kevin James   \n",
       "\n",
       "                                                plot  \\\n",
       "0  A thief who steals corporate secrets through t...   \n",
       "1  With the world now aware of his identity as Ir...   \n",
       "2  In 1954, a U.S. Marshal investigates the disap...   \n",
       "3  In a magically realistic version of Toronto, a...   \n",
       "4  After their high school basketball coach passe...   \n",
       "\n",
       "                    language                                       country  \\\n",
       "0  English, Japanese, French                 United Kingdom, United States   \n",
       "1   English, French, Russian                                 United States   \n",
       "2            English, German                                 United States   \n",
       "3                    English  United States, United Kingdom, Canada, Japan   \n",
       "4           English, Spanish                                 United States   \n",
       "\n",
       "   ...    boxoffice  response    genre               star       budget  \\\n",
       "0  ...  292576195.0      True   Action  Leonardo DiCaprio  160000000.0   \n",
       "1  ...  312433331.0      True   Action  Robert Downey Jr.  200000000.0   \n",
       "2  ...  128012934.0      True  Mystery  Leonardo DiCaprio   80000000.0   \n",
       "3  ...   32777690.0      True   Action       Michael Cera   60000000.0   \n",
       "4  ...  162001186.0      True   Comedy       Adam Sandler   80000000.0   \n",
       "\n",
       "         gross  year internet_movie_database_rating rotten_tomato_rating  \\\n",
       "0  836836967.0  2010                            8.8                 87.0   \n",
       "1  623933331.0  2010                            7.0                 72.0   \n",
       "2  294805697.0  2010                            8.2                 68.0   \n",
       "3   48917974.0  2010                            7.5                 82.0   \n",
       "4  271457301.0  2010                            6.0                 11.0   \n",
       "\n",
       "   metacritic_rating  \n",
       "0               74.0  \n",
       "1               57.0  \n",
       "2               63.0  \n",
       "3               69.0  \n",
       "4               30.0  \n",
       "\n",
       "[5 rows x 25 columns]"
      ]
     },
     "execution_count": 155,
     "metadata": {},
     "output_type": "execute_result"
    }
   ],
   "source": [
    "movie_df=pd.read_csv('cleaned_data.csv')\n",
    "movie_df.head(5)"
   ]
  },
  {
   "cell_type": "code",
   "execution_count": 156,
   "id": "96e4537b-17ff-4f3d-a087-23847e71a6ed",
   "metadata": {},
   "outputs": [
    {
     "name": "stdout",
     "output_type": "stream",
     "text": [
      "<class 'pandas.core.frame.DataFrame'>\n",
      "RangeIndex: 1774 entries, 0 to 1773\n",
      "Data columns (total 25 columns):\n",
      " #   Column                          Non-Null Count  Dtype  \n",
      "---  ------                          --------------  -----  \n",
      " 0   title                           1774 non-null   object \n",
      " 1   rated                           1753 non-null   object \n",
      " 2   released                        1774 non-null   object \n",
      " 3   runtime                         1774 non-null   int64  \n",
      " 4   director                        1766 non-null   object \n",
      " 5   writer                          1771 non-null   object \n",
      " 6   actors                          1774 non-null   object \n",
      " 7   plot                            1774 non-null   object \n",
      " 8   language                        1771 non-null   object \n",
      " 9   country                         1773 non-null   object \n",
      " 10  awards                          1654 non-null   object \n",
      " 11  metascore                       1774 non-null   float64\n",
      " 12  imdbrating                      1774 non-null   float64\n",
      " 13  imdbvotes                       1774 non-null   int64  \n",
      " 14  dvd                             1736 non-null   object \n",
      " 15  boxoffice                       1774 non-null   float64\n",
      " 16  response                        1774 non-null   bool   \n",
      " 17  genre                           1774 non-null   object \n",
      " 18  star                            1774 non-null   object \n",
      " 19  budget                          1774 non-null   float64\n",
      " 20  gross                           1774 non-null   float64\n",
      " 21  year                            1774 non-null   int64  \n",
      " 22  internet_movie_database_rating  1774 non-null   float64\n",
      " 23  rotten_tomato_rating            1774 non-null   float64\n",
      " 24  metacritic_rating               1774 non-null   float64\n",
      "dtypes: bool(1), float64(8), int64(3), object(13)\n",
      "memory usage: 334.5+ KB\n"
     ]
    }
   ],
   "source": [
    "movie_df.info()"
   ]
  },
  {
   "cell_type": "markdown",
   "id": "8963a7bc-7d9f-49c0-8098-95f30f09713a",
   "metadata": {},
   "source": [
    "#### Countries with most production"
   ]
  },
  {
   "cell_type": "code",
   "execution_count": 128,
   "id": "961feff3-d750-4a7a-a239-bd98042fc392",
   "metadata": {},
   "outputs": [],
   "source": [
    "countries=movie_df['country'].to_list()"
   ]
  },
  {
   "cell_type": "code",
   "execution_count": 129,
   "id": "e957d75a-bc71-4704-aba8-d6fcdb20bf42",
   "metadata": {},
   "outputs": [],
   "source": [
    "country_list=[]\n",
    "\n",
    "for x in countries:\n",
    "    \n",
    "        country_array = str(x).split(',')\n",
    "        for y in country_array:\n",
    "            y=y.strip()\n",
    "            country_list.append(y)"
   ]
  },
  {
   "cell_type": "code",
   "execution_count": 130,
   "id": "4c07ad10-6321-4317-86a0-c2e945c9f7c4",
   "metadata": {},
   "outputs": [
    {
     "data": {
      "text/html": [
       "<div>\n",
       "<style scoped>\n",
       "    .dataframe tbody tr th:only-of-type {\n",
       "        vertical-align: middle;\n",
       "    }\n",
       "\n",
       "    .dataframe tbody tr th {\n",
       "        vertical-align: top;\n",
       "    }\n",
       "\n",
       "    .dataframe thead th {\n",
       "        text-align: right;\n",
       "    }\n",
       "</style>\n",
       "<table border=\"1\" class=\"dataframe\">\n",
       "  <thead>\n",
       "    <tr style=\"text-align: right;\">\n",
       "      <th></th>\n",
       "      <th>Country</th>\n",
       "      <th>Count</th>\n",
       "    </tr>\n",
       "  </thead>\n",
       "  <tbody>\n",
       "    <tr>\n",
       "      <th>0</th>\n",
       "      <td>United States</td>\n",
       "      <td>1485</td>\n",
       "    </tr>\n",
       "    <tr>\n",
       "      <th>1</th>\n",
       "      <td>United Kingdom</td>\n",
       "      <td>380</td>\n",
       "    </tr>\n",
       "    <tr>\n",
       "      <th>2</th>\n",
       "      <td>France</td>\n",
       "      <td>191</td>\n",
       "    </tr>\n",
       "    <tr>\n",
       "      <th>3</th>\n",
       "      <td>Canada</td>\n",
       "      <td>184</td>\n",
       "    </tr>\n",
       "    <tr>\n",
       "      <th>4</th>\n",
       "      <td>China</td>\n",
       "      <td>93</td>\n",
       "    </tr>\n",
       "    <tr>\n",
       "      <th>5</th>\n",
       "      <td>Germany</td>\n",
       "      <td>89</td>\n",
       "    </tr>\n",
       "    <tr>\n",
       "      <th>6</th>\n",
       "      <td>Australia</td>\n",
       "      <td>65</td>\n",
       "    </tr>\n",
       "    <tr>\n",
       "      <th>7</th>\n",
       "      <td>Japan</td>\n",
       "      <td>63</td>\n",
       "    </tr>\n",
       "    <tr>\n",
       "      <th>8</th>\n",
       "      <td>India</td>\n",
       "      <td>56</td>\n",
       "    </tr>\n",
       "    <tr>\n",
       "      <th>9</th>\n",
       "      <td>Spain</td>\n",
       "      <td>47</td>\n",
       "    </tr>\n",
       "  </tbody>\n",
       "</table>\n",
       "</div>"
      ],
      "text/plain": [
       "          Country  Count\n",
       "0   United States   1485\n",
       "1  United Kingdom    380\n",
       "2          France    191\n",
       "3          Canada    184\n",
       "4           China     93\n",
       "5         Germany     89\n",
       "6       Australia     65\n",
       "7           Japan     63\n",
       "8           India     56\n",
       "9           Spain     47"
      ]
     },
     "execution_count": 130,
     "metadata": {},
     "output_type": "execute_result"
    }
   ],
   "source": [
    "countries_most_production=pd.DataFrame(Counter(country_list).most_common(10))\n",
    "countries_most_production.columns=['Country','Count']\n",
    "countries_most_production"
   ]
  },
  {
   "cell_type": "code",
   "execution_count": 157,
   "id": "2e0427d2-9640-44af-9c14-190344973370",
   "metadata": {},
   "outputs": [
    {
     "data": {
      "image/png": "[encoded data removed]",
      "text/plain": [
       "<Figure size 864x360 with 1 Axes>"
      ]
     },
     "metadata": {
      "needs_background": "light"
     },
     "output_type": "display_data"
    }
   ],
   "source": [
    "%matplotlib inline\n",
    "import matplotlib.pyplot as plt\n",
    "import seaborn as sns\n",
    "plt.figure(figsize=(12,5))\n",
    "sns.barplot(x='Country', y='Count', data=countries_most_production.iloc[1:10])\n",
    "plt.show()"
   ]
  },
  {
   "cell_type": "markdown",
   "id": "b46b32c7-7fdf-452a-9923-c04d1b77c04d",
   "metadata": {},
   "source": [
    "#### most used languages"
   ]
  },
  {
   "cell_type": "code",
   "execution_count": 158,
   "id": "9d6b5146-d65e-4ef6-8e69-5651a39880fa",
   "metadata": {},
   "outputs": [],
   "source": [
    "languages=movie_df['language'].to_list()"
   ]
  },
  {
   "cell_type": "code",
   "execution_count": 159,
   "id": "dd388fc4-ee85-4cda-8a5b-7cfbcf765816",
   "metadata": {},
   "outputs": [],
   "source": [
    "language_list=[]\n",
    "\n",
    "for x in languages:\n",
    "    \n",
    "        language_array = str(x).split(',')\n",
    "        for y in language_array:\n",
    "            y=y.strip()\n",
    "            language_list.append(y)"
   ]
  },
  {
   "cell_type": "code",
   "execution_count": 160,
   "id": "47535154-ae18-4067-86da-19c1b1cfc95a",
   "metadata": {},
   "outputs": [
    {
     "data": {
      "text/html": [
       "<div>\n",
       "<style scoped>\n",
       "    .dataframe tbody tr th:only-of-type {\n",
       "        vertical-align: middle;\n",
       "    }\n",
       "\n",
       "    .dataframe tbody tr th {\n",
       "        vertical-align: top;\n",
       "    }\n",
       "\n",
       "    .dataframe thead th {\n",
       "        text-align: right;\n",
       "    }\n",
       "</style>\n",
       "<table border=\"1\" class=\"dataframe\">\n",
       "  <thead>\n",
       "    <tr style=\"text-align: right;\">\n",
       "      <th></th>\n",
       "      <th>Laguage</th>\n",
       "      <th>Count</th>\n",
       "    </tr>\n",
       "  </thead>\n",
       "  <tbody>\n",
       "    <tr>\n",
       "      <th>0</th>\n",
       "      <td>English</td>\n",
       "      <td>1677</td>\n",
       "    </tr>\n",
       "    <tr>\n",
       "      <th>1</th>\n",
       "      <td>Spanish</td>\n",
       "      <td>222</td>\n",
       "    </tr>\n",
       "    <tr>\n",
       "      <th>2</th>\n",
       "      <td>French</td>\n",
       "      <td>208</td>\n",
       "    </tr>\n",
       "    <tr>\n",
       "      <th>3</th>\n",
       "      <td>German</td>\n",
       "      <td>132</td>\n",
       "    </tr>\n",
       "    <tr>\n",
       "      <th>4</th>\n",
       "      <td>Russian</td>\n",
       "      <td>107</td>\n",
       "    </tr>\n",
       "    <tr>\n",
       "      <th>5</th>\n",
       "      <td>Italian</td>\n",
       "      <td>84</td>\n",
       "    </tr>\n",
       "    <tr>\n",
       "      <th>6</th>\n",
       "      <td>Japanese</td>\n",
       "      <td>78</td>\n",
       "    </tr>\n",
       "    <tr>\n",
       "      <th>7</th>\n",
       "      <td>Mandarin</td>\n",
       "      <td>56</td>\n",
       "    </tr>\n",
       "    <tr>\n",
       "      <th>8</th>\n",
       "      <td>Hindi</td>\n",
       "      <td>55</td>\n",
       "    </tr>\n",
       "    <tr>\n",
       "      <th>9</th>\n",
       "      <td>Arabic</td>\n",
       "      <td>48</td>\n",
       "    </tr>\n",
       "  </tbody>\n",
       "</table>\n",
       "</div>"
      ],
      "text/plain": [
       "    Laguage  Count\n",
       "0   English   1677\n",
       "1   Spanish    222\n",
       "2    French    208\n",
       "3    German    132\n",
       "4   Russian    107\n",
       "5   Italian     84\n",
       "6  Japanese     78\n",
       "7  Mandarin     56\n",
       "8     Hindi     55\n",
       "9    Arabic     48"
      ]
     },
     "execution_count": 160,
     "metadata": {},
     "output_type": "execute_result"
    }
   ],
   "source": [
    "most_used_languages= pd.DataFrame(Counter(language_list).most_common(10))\n",
    "most_used_languages.columns=['Laguage','Count']\n",
    "most_used_languages"
   ]
  },
  {
   "cell_type": "code",
   "execution_count": 161,
   "id": "f17f8d08-9ac4-4ca2-bb09-6a2cfb1877ad",
   "metadata": {},
   "outputs": [
    {
     "data": {
      "image/png": "[encoded data removed]",
      "text/plain": [
       "<Figure size 864x360 with 1 Axes>"
      ]
     },
     "metadata": {
      "needs_background": "light"
     },
     "output_type": "display_data"
    }
   ],
   "source": [
    "plt.figure(figsize=(12,5))\n",
    "sns.barplot(x='Laguage', y='Count', data=most_used_languages.iloc[1:10])\n",
    "plt.show()"
   ]
  },
  {
   "cell_type": "markdown",
   "id": "a9b614e2-e424-4c5f-9377-0fbb76094c06",
   "metadata": {},
   "source": [
    "### Checking Distribution of imdbrating"
   ]
  },
  {
   "cell_type": "code",
   "execution_count": 162,
   "id": "d16f8310-a6a3-48df-a120-756a3c8cd4bb",
   "metadata": {
    "tags": []
   },
   "outputs": [
    {
     "data": {
      "text/plain": [
       "count    1774.000000\n",
       "mean        6.535457\n",
       "std         0.883080\n",
       "min         2.200000\n",
       "25%         6.000000\n",
       "50%         6.600000\n",
       "75%         7.200000\n",
       "max         8.800000\n",
       "Name: imdbrating, dtype: float64"
      ]
     },
     "execution_count": 162,
     "metadata": {},
     "output_type": "execute_result"
    }
   ],
   "source": [
    "movie_df['imdbrating'].describe()"
   ]
  },
  {
   "cell_type": "code",
   "execution_count": 61,
   "id": "001be984-4326-4850-9935-7e09cff16480",
   "metadata": {},
   "outputs": [
    {
     "name": "stderr",
     "output_type": "stream",
     "text": [
      "/Users/Mimi/opt/anaconda3/envs/venv/lib/python3.6/site-packages/seaborn/distributions.py:2619: FutureWarning: `distplot` is a deprecated function and will be removed in a future version. Please adapt your code to use either `displot` (a figure-level function with similar flexibility) or `histplot` (an axes-level function for histograms).\n",
      "  warnings.warn(msg, FutureWarning)\n"
     ]
    },
    {
     "data": {
      "text/plain": [
       "<AxesSubplot:xlabel='imdbrating', ylabel='Density'>"
      ]
     },
     "execution_count": 61,
     "metadata": {},
     "output_type": "execute_result"
    },
    {
     "data": {
      "image/png": "[encoded data removed]",
      "text/plain": [
       "<Figure size 432x288 with 1 Axes>"
      ]
     },
     "metadata": {
      "needs_background": "light"
     },
     "output_type": "display_data"
    }
   ],
   "source": [
    "sns.distplot(movie_df['imdbrating'])"
   ]
  },
  {
   "cell_type": "markdown",
   "id": "9b7b4b34-5924-4b1f-9f06-8665b642234c",
   "metadata": {},
   "source": [
    "### Searching more corelated columns with imdb rating"
   ]
  },
  {
   "cell_type": "code",
   "execution_count": 163,
   "id": "bc10e1ff-ca18-453e-86a4-561a3ec4ad84",
   "metadata": {},
   "outputs": [
    {
     "data": {
      "text/html": [
       "<style  type=\"text/css\" >\n",
       "#T_2bbbf8e2_8079_11ec_b31c_f40f242d5b1arow0_col0,#T_2bbbf8e2_8079_11ec_b31c_f40f242d5b1arow1_col1,#T_2bbbf8e2_8079_11ec_b31c_f40f242d5b1arow2_col2,#T_2bbbf8e2_8079_11ec_b31c_f40f242d5b1arow3_col3,#T_2bbbf8e2_8079_11ec_b31c_f40f242d5b1arow4_col4,#T_2bbbf8e2_8079_11ec_b31c_f40f242d5b1arow4_col8,#T_2bbbf8e2_8079_11ec_b31c_f40f242d5b1arow5_col5,#T_2bbbf8e2_8079_11ec_b31c_f40f242d5b1arow5_col6,#T_2bbbf8e2_8079_11ec_b31c_f40f242d5b1arow6_col5,#T_2bbbf8e2_8079_11ec_b31c_f40f242d5b1arow6_col6,#T_2bbbf8e2_8079_11ec_b31c_f40f242d5b1arow7_col7,#T_2bbbf8e2_8079_11ec_b31c_f40f242d5b1arow8_col4,#T_2bbbf8e2_8079_11ec_b31c_f40f242d5b1arow8_col8{\n",
       "            background-color:  #b40426;\n",
       "            color:  #f1f1f1;\n",
       "        }#T_2bbbf8e2_8079_11ec_b31c_f40f242d5b1arow0_col1,#T_2bbbf8e2_8079_11ec_b31c_f40f242d5b1arow7_col5,#T_2bbbf8e2_8079_11ec_b31c_f40f242d5b1arow7_col6{\n",
       "            background-color:  #f5c4ac;\n",
       "            color:  #000000;\n",
       "        }#T_2bbbf8e2_8079_11ec_b31c_f40f242d5b1arow0_col2{\n",
       "            background-color:  #e9d5cb;\n",
       "            color:  #000000;\n",
       "        }#T_2bbbf8e2_8079_11ec_b31c_f40f242d5b1arow0_col3{\n",
       "            background-color:  #f0cdbb;\n",
       "            color:  #000000;\n",
       "        }#T_2bbbf8e2_8079_11ec_b31c_f40f242d5b1arow0_col4,#T_2bbbf8e2_8079_11ec_b31c_f40f242d5b1arow0_col8{\n",
       "            background-color:  #93b5fe;\n",
       "            color:  #000000;\n",
       "        }#T_2bbbf8e2_8079_11ec_b31c_f40f242d5b1arow0_col5,#T_2bbbf8e2_8079_11ec_b31c_f40f242d5b1arow0_col6{\n",
       "            background-color:  #bfd3f6;\n",
       "            color:  #000000;\n",
       "        }#T_2bbbf8e2_8079_11ec_b31c_f40f242d5b1arow0_col7{\n",
       "            background-color:  #98b9ff;\n",
       "            color:  #000000;\n",
       "        }#T_2bbbf8e2_8079_11ec_b31c_f40f242d5b1arow1_col0{\n",
       "            background-color:  #ead5c9;\n",
       "            color:  #000000;\n",
       "        }#T_2bbbf8e2_8079_11ec_b31c_f40f242d5b1arow1_col2{\n",
       "            background-color:  #f6a586;\n",
       "            color:  #000000;\n",
       "        }#T_2bbbf8e2_8079_11ec_b31c_f40f242d5b1arow1_col3,#T_2bbbf8e2_8079_11ec_b31c_f40f242d5b1arow3_col1{\n",
       "            background-color:  #d75445;\n",
       "            color:  #000000;\n",
       "        }#T_2bbbf8e2_8079_11ec_b31c_f40f242d5b1arow1_col4,#T_2bbbf8e2_8079_11ec_b31c_f40f242d5b1arow1_col8{\n",
       "            background-color:  #5d7ce6;\n",
       "            color:  #000000;\n",
       "        }#T_2bbbf8e2_8079_11ec_b31c_f40f242d5b1arow1_col5,#T_2bbbf8e2_8079_11ec_b31c_f40f242d5b1arow1_col6{\n",
       "            background-color:  #6180e9;\n",
       "            color:  #000000;\n",
       "        }#T_2bbbf8e2_8079_11ec_b31c_f40f242d5b1arow1_col7{\n",
       "            background-color:  #6788ee;\n",
       "            color:  #000000;\n",
       "        }#T_2bbbf8e2_8079_11ec_b31c_f40f242d5b1arow2_col0{\n",
       "            background-color:  #b6cefa;\n",
       "            color:  #000000;\n",
       "        }#T_2bbbf8e2_8079_11ec_b31c_f40f242d5b1arow2_col1{\n",
       "            background-color:  #f7b599;\n",
       "            color:  #000000;\n",
       "        }#T_2bbbf8e2_8079_11ec_b31c_f40f242d5b1arow2_col3{\n",
       "            background-color:  #f4987a;\n",
       "            color:  #000000;\n",
       "        }#T_2bbbf8e2_8079_11ec_b31c_f40f242d5b1arow2_col4,#T_2bbbf8e2_8079_11ec_b31c_f40f242d5b1arow2_col5,#T_2bbbf8e2_8079_11ec_b31c_f40f242d5b1arow2_col6,#T_2bbbf8e2_8079_11ec_b31c_f40f242d5b1arow2_col7,#T_2bbbf8e2_8079_11ec_b31c_f40f242d5b1arow2_col8,#T_2bbbf8e2_8079_11ec_b31c_f40f242d5b1arow7_col0,#T_2bbbf8e2_8079_11ec_b31c_f40f242d5b1arow7_col1,#T_2bbbf8e2_8079_11ec_b31c_f40f242d5b1arow7_col2,#T_2bbbf8e2_8079_11ec_b31c_f40f242d5b1arow7_col3{\n",
       "            background-color:  #3b4cc0;\n",
       "            color:  #f1f1f1;\n",
       "        }#T_2bbbf8e2_8079_11ec_b31c_f40f242d5b1arow3_col0,#T_2bbbf8e2_8079_11ec_b31c_f40f242d5b1arow4_col5,#T_2bbbf8e2_8079_11ec_b31c_f40f242d5b1arow4_col6,#T_2bbbf8e2_8079_11ec_b31c_f40f242d5b1arow8_col5,#T_2bbbf8e2_8079_11ec_b31c_f40f242d5b1arow8_col6{\n",
       "            background-color:  #dcdddd;\n",
       "            color:  #000000;\n",
       "        }#T_2bbbf8e2_8079_11ec_b31c_f40f242d5b1arow3_col2{\n",
       "            background-color:  #f08b6e;\n",
       "            color:  #000000;\n",
       "        }#T_2bbbf8e2_8079_11ec_b31c_f40f242d5b1arow3_col4,#T_2bbbf8e2_8079_11ec_b31c_f40f242d5b1arow3_col8{\n",
       "            background-color:  #516ddb;\n",
       "            color:  #000000;\n",
       "        }#T_2bbbf8e2_8079_11ec_b31c_f40f242d5b1arow3_col5,#T_2bbbf8e2_8079_11ec_b31c_f40f242d5b1arow3_col6,#T_2bbbf8e2_8079_11ec_b31c_f40f242d5b1arow3_col7{\n",
       "            background-color:  #6282ea;\n",
       "            color:  #000000;\n",
       "        }#T_2bbbf8e2_8079_11ec_b31c_f40f242d5b1arow4_col0,#T_2bbbf8e2_8079_11ec_b31c_f40f242d5b1arow8_col0{\n",
       "            background-color:  #455cce;\n",
       "            color:  #f1f1f1;\n",
       "        }#T_2bbbf8e2_8079_11ec_b31c_f40f242d5b1arow4_col1,#T_2bbbf8e2_8079_11ec_b31c_f40f242d5b1arow8_col1{\n",
       "            background-color:  #4257c9;\n",
       "            color:  #f1f1f1;\n",
       "        }#T_2bbbf8e2_8079_11ec_b31c_f40f242d5b1arow4_col2,#T_2bbbf8e2_8079_11ec_b31c_f40f242d5b1arow8_col2{\n",
       "            background-color:  #4c66d6;\n",
       "            color:  #000000;\n",
       "        }#T_2bbbf8e2_8079_11ec_b31c_f40f242d5b1arow4_col3,#T_2bbbf8e2_8079_11ec_b31c_f40f242d5b1arow8_col3{\n",
       "            background-color:  #3c4ec2;\n",
       "            color:  #f1f1f1;\n",
       "        }#T_2bbbf8e2_8079_11ec_b31c_f40f242d5b1arow4_col7,#T_2bbbf8e2_8079_11ec_b31c_f40f242d5b1arow8_col7{\n",
       "            background-color:  #f08a6c;\n",
       "            color:  #000000;\n",
       "        }#T_2bbbf8e2_8079_11ec_b31c_f40f242d5b1arow5_col0,#T_2bbbf8e2_8079_11ec_b31c_f40f242d5b1arow6_col0{\n",
       "            background-color:  #85a8fc;\n",
       "            color:  #000000;\n",
       "        }#T_2bbbf8e2_8079_11ec_b31c_f40f242d5b1arow5_col1,#T_2bbbf8e2_8079_11ec_b31c_f40f242d5b1arow6_col1{\n",
       "            background-color:  #506bda;\n",
       "            color:  #000000;\n",
       "        }#T_2bbbf8e2_8079_11ec_b31c_f40f242d5b1arow5_col2,#T_2bbbf8e2_8079_11ec_b31c_f40f242d5b1arow5_col3,#T_2bbbf8e2_8079_11ec_b31c_f40f242d5b1arow6_col2,#T_2bbbf8e2_8079_11ec_b31c_f40f242d5b1arow6_col3{\n",
       "            background-color:  #5572df;\n",
       "            color:  #000000;\n",
       "        }#T_2bbbf8e2_8079_11ec_b31c_f40f242d5b1arow5_col4,#T_2bbbf8e2_8079_11ec_b31c_f40f242d5b1arow5_col8,#T_2bbbf8e2_8079_11ec_b31c_f40f242d5b1arow6_col4,#T_2bbbf8e2_8079_11ec_b31c_f40f242d5b1arow6_col8{\n",
       "            background-color:  #e0dbd8;\n",
       "            color:  #000000;\n",
       "        }#T_2bbbf8e2_8079_11ec_b31c_f40f242d5b1arow5_col7,#T_2bbbf8e2_8079_11ec_b31c_f40f242d5b1arow6_col7{\n",
       "            background-color:  #f7b99e;\n",
       "            color:  #000000;\n",
       "        }#T_2bbbf8e2_8079_11ec_b31c_f40f242d5b1arow7_col4,#T_2bbbf8e2_8079_11ec_b31c_f40f242d5b1arow7_col8{\n",
       "            background-color:  #f18f71;\n",
       "            color:  #000000;\n",
       "        }</style><table id=\"T_2bbbf8e2_8079_11ec_b31c_f40f242d5b1a\" ><thead>    <tr>        <th class=\"blank level0\" ></th>        <th class=\"col_heading level0 col0\" >imdbvotes</th>        <th class=\"col_heading level0 col1\" >boxoffice</th>        <th class=\"col_heading level0 col2\" >budget</th>        <th class=\"col_heading level0 col3\" >gross</th>        <th class=\"col_heading level0 col4\" >metascore</th>        <th class=\"col_heading level0 col5\" >imdbrating</th>        <th class=\"col_heading level0 col6\" >internet_movie_database_rating</th>        <th class=\"col_heading level0 col7\" >rotten_tomato_rating</th>        <th class=\"col_heading level0 col8\" >metacritic_rating</th>    </tr></thead><tbody>\n",
       "                <tr>\n",
       "                        <th id=\"T_2bbbf8e2_8079_11ec_b31c_f40f242d5b1alevel0_row0\" class=\"row_heading level0 row0\" >imdbvotes</th>\n",
       "                        <td id=\"T_2bbbf8e2_8079_11ec_b31c_f40f242d5b1arow0_col0\" class=\"data row0 col0\" >1.000000</td>\n",
       "                        <td id=\"T_2bbbf8e2_8079_11ec_b31c_f40f242d5b1arow0_col1\" class=\"data row0 col1\" >0.680483</td>\n",
       "                        <td id=\"T_2bbbf8e2_8079_11ec_b31c_f40f242d5b1arow0_col2\" class=\"data row0 col2\" >0.551815</td>\n",
       "                        <td id=\"T_2bbbf8e2_8079_11ec_b31c_f40f242d5b1arow0_col3\" class=\"data row0 col3\" >0.642377</td>\n",
       "                        <td id=\"T_2bbbf8e2_8079_11ec_b31c_f40f242d5b1arow0_col4\" class=\"data row0 col4\" >0.313106</td>\n",
       "                        <td id=\"T_2bbbf8e2_8079_11ec_b31c_f40f242d5b1arow0_col5\" class=\"data row0 col5\" >0.451652</td>\n",
       "                        <td id=\"T_2bbbf8e2_8079_11ec_b31c_f40f242d5b1arow0_col6\" class=\"data row0 col6\" >0.451652</td>\n",
       "                        <td id=\"T_2bbbf8e2_8079_11ec_b31c_f40f242d5b1arow0_col7\" class=\"data row0 col7\" >0.287468</td>\n",
       "                        <td id=\"T_2bbbf8e2_8079_11ec_b31c_f40f242d5b1arow0_col8\" class=\"data row0 col8\" >0.313106</td>\n",
       "            </tr>\n",
       "            <tr>\n",
       "                        <th id=\"T_2bbbf8e2_8079_11ec_b31c_f40f242d5b1alevel0_row1\" class=\"row_heading level0 row1\" >boxoffice</th>\n",
       "                        <td id=\"T_2bbbf8e2_8079_11ec_b31c_f40f242d5b1arow1_col0\" class=\"data row1 col0\" >0.680483</td>\n",
       "                        <td id=\"T_2bbbf8e2_8079_11ec_b31c_f40f242d5b1arow1_col1\" class=\"data row1 col1\" >1.000000</td>\n",
       "                        <td id=\"T_2bbbf8e2_8079_11ec_b31c_f40f242d5b1arow1_col2\" class=\"data row1 col2\" >0.722155</td>\n",
       "                        <td id=\"T_2bbbf8e2_8079_11ec_b31c_f40f242d5b1arow1_col3\" class=\"data row1 col3\" >0.911370</td>\n",
       "                        <td id=\"T_2bbbf8e2_8079_11ec_b31c_f40f242d5b1arow1_col4\" class=\"data row1 col4\" >0.169221</td>\n",
       "                        <td id=\"T_2bbbf8e2_8079_11ec_b31c_f40f242d5b1arow1_col5\" class=\"data row1 col5\" >0.206332</td>\n",
       "                        <td id=\"T_2bbbf8e2_8079_11ec_b31c_f40f242d5b1arow1_col6\" class=\"data row1 col6\" >0.206332</td>\n",
       "                        <td id=\"T_2bbbf8e2_8079_11ec_b31c_f40f242d5b1arow1_col7\" class=\"data row1 col7\" >0.146010</td>\n",
       "                        <td id=\"T_2bbbf8e2_8079_11ec_b31c_f40f242d5b1arow1_col8\" class=\"data row1 col8\" >0.169221</td>\n",
       "            </tr>\n",
       "            <tr>\n",
       "                        <th id=\"T_2bbbf8e2_8079_11ec_b31c_f40f242d5b1alevel0_row2\" class=\"row_heading level0 row2\" >budget</th>\n",
       "                        <td id=\"T_2bbbf8e2_8079_11ec_b31c_f40f242d5b1arow2_col0\" class=\"data row2 col0\" >0.551815</td>\n",
       "                        <td id=\"T_2bbbf8e2_8079_11ec_b31c_f40f242d5b1arow2_col1\" class=\"data row2 col1\" >0.722155</td>\n",
       "                        <td id=\"T_2bbbf8e2_8079_11ec_b31c_f40f242d5b1arow2_col2\" class=\"data row2 col2\" >1.000000</td>\n",
       "                        <td id=\"T_2bbbf8e2_8079_11ec_b31c_f40f242d5b1arow2_col3\" class=\"data row2 col3\" >0.784985</td>\n",
       "                        <td id=\"T_2bbbf8e2_8079_11ec_b31c_f40f242d5b1arow2_col4\" class=\"data row2 col4\" >0.064433</td>\n",
       "                        <td id=\"T_2bbbf8e2_8079_11ec_b31c_f40f242d5b1arow2_col5\" class=\"data row2 col5\" >0.092982</td>\n",
       "                        <td id=\"T_2bbbf8e2_8079_11ec_b31c_f40f242d5b1arow2_col6\" class=\"data row2 col6\" >0.092982</td>\n",
       "                        <td id=\"T_2bbbf8e2_8079_11ec_b31c_f40f242d5b1arow2_col7\" class=\"data row2 col7\" >0.005359</td>\n",
       "                        <td id=\"T_2bbbf8e2_8079_11ec_b31c_f40f242d5b1arow2_col8\" class=\"data row2 col8\" >0.064433</td>\n",
       "            </tr>\n",
       "            <tr>\n",
       "                        <th id=\"T_2bbbf8e2_8079_11ec_b31c_f40f242d5b1alevel0_row3\" class=\"row_heading level0 row3\" >gross</th>\n",
       "                        <td id=\"T_2bbbf8e2_8079_11ec_b31c_f40f242d5b1arow3_col0\" class=\"data row3 col0\" >0.642377</td>\n",
       "                        <td id=\"T_2bbbf8e2_8079_11ec_b31c_f40f242d5b1arow3_col1\" class=\"data row3 col1\" >0.911370</td>\n",
       "                        <td id=\"T_2bbbf8e2_8079_11ec_b31c_f40f242d5b1arow3_col2\" class=\"data row3 col2\" >0.784985</td>\n",
       "                        <td id=\"T_2bbbf8e2_8079_11ec_b31c_f40f242d5b1arow3_col3\" class=\"data row3 col3\" >1.000000</td>\n",
       "                        <td id=\"T_2bbbf8e2_8079_11ec_b31c_f40f242d5b1arow3_col4\" class=\"data row3 col4\" >0.136701</td>\n",
       "                        <td id=\"T_2bbbf8e2_8079_11ec_b31c_f40f242d5b1arow3_col5\" class=\"data row3 col5\" >0.207146</td>\n",
       "                        <td id=\"T_2bbbf8e2_8079_11ec_b31c_f40f242d5b1arow3_col6\" class=\"data row3 col6\" >0.207146</td>\n",
       "                        <td id=\"T_2bbbf8e2_8079_11ec_b31c_f40f242d5b1arow3_col7\" class=\"data row3 col7\" >0.131744</td>\n",
       "                        <td id=\"T_2bbbf8e2_8079_11ec_b31c_f40f242d5b1arow3_col8\" class=\"data row3 col8\" >0.136701</td>\n",
       "            </tr>\n",
       "            <tr>\n",
       "                        <th id=\"T_2bbbf8e2_8079_11ec_b31c_f40f242d5b1alevel0_row4\" class=\"row_heading level0 row4\" >metascore</th>\n",
       "                        <td id=\"T_2bbbf8e2_8079_11ec_b31c_f40f242d5b1arow4_col0\" class=\"data row4 col0\" >0.313106</td>\n",
       "                        <td id=\"T_2bbbf8e2_8079_11ec_b31c_f40f242d5b1arow4_col1\" class=\"data row4 col1\" >0.169221</td>\n",
       "                        <td id=\"T_2bbbf8e2_8079_11ec_b31c_f40f242d5b1arow4_col2\" class=\"data row4 col2\" >0.064433</td>\n",
       "                        <td id=\"T_2bbbf8e2_8079_11ec_b31c_f40f242d5b1arow4_col3\" class=\"data row4 col3\" >0.136701</td>\n",
       "                        <td id=\"T_2bbbf8e2_8079_11ec_b31c_f40f242d5b1arow4_col4\" class=\"data row4 col4\" >1.000000</td>\n",
       "                        <td id=\"T_2bbbf8e2_8079_11ec_b31c_f40f242d5b1arow4_col5\" class=\"data row4 col5\" >0.544940</td>\n",
       "                        <td id=\"T_2bbbf8e2_8079_11ec_b31c_f40f242d5b1arow4_col6\" class=\"data row4 col6\" >0.544940</td>\n",
       "                        <td id=\"T_2bbbf8e2_8079_11ec_b31c_f40f242d5b1arow4_col7\" class=\"data row4 col7\" >0.789362</td>\n",
       "                        <td id=\"T_2bbbf8e2_8079_11ec_b31c_f40f242d5b1arow4_col8\" class=\"data row4 col8\" >1.000000</td>\n",
       "            </tr>\n",
       "            <tr>\n",
       "                        <th id=\"T_2bbbf8e2_8079_11ec_b31c_f40f242d5b1alevel0_row5\" class=\"row_heading level0 row5\" >imdbrating</th>\n",
       "                        <td id=\"T_2bbbf8e2_8079_11ec_b31c_f40f242d5b1arow5_col0\" class=\"data row5 col0\" >0.451652</td>\n",
       "                        <td id=\"T_2bbbf8e2_8079_11ec_b31c_f40f242d5b1arow5_col1\" class=\"data row5 col1\" >0.206332</td>\n",
       "                        <td id=\"T_2bbbf8e2_8079_11ec_b31c_f40f242d5b1arow5_col2\" class=\"data row5 col2\" >0.092982</td>\n",
       "                        <td id=\"T_2bbbf8e2_8079_11ec_b31c_f40f242d5b1arow5_col3\" class=\"data row5 col3\" >0.207146</td>\n",
       "                        <td id=\"T_2bbbf8e2_8079_11ec_b31c_f40f242d5b1arow5_col4\" class=\"data row5 col4\" >0.544940</td>\n",
       "                        <td id=\"T_2bbbf8e2_8079_11ec_b31c_f40f242d5b1arow5_col5\" class=\"data row5 col5\" >1.000000</td>\n",
       "                        <td id=\"T_2bbbf8e2_8079_11ec_b31c_f40f242d5b1arow5_col6\" class=\"data row5 col6\" >1.000000</td>\n",
       "                        <td id=\"T_2bbbf8e2_8079_11ec_b31c_f40f242d5b1arow5_col7\" class=\"data row5 col7\" >0.662932</td>\n",
       "                        <td id=\"T_2bbbf8e2_8079_11ec_b31c_f40f242d5b1arow5_col8\" class=\"data row5 col8\" >0.544940</td>\n",
       "            </tr>\n",
       "            <tr>\n",
       "                        <th id=\"T_2bbbf8e2_8079_11ec_b31c_f40f242d5b1alevel0_row6\" class=\"row_heading level0 row6\" >internet_movie_database_rating</th>\n",
       "                        <td id=\"T_2bbbf8e2_8079_11ec_b31c_f40f242d5b1arow6_col0\" class=\"data row6 col0\" >0.451652</td>\n",
       "                        <td id=\"T_2bbbf8e2_8079_11ec_b31c_f40f242d5b1arow6_col1\" class=\"data row6 col1\" >0.206332</td>\n",
       "                        <td id=\"T_2bbbf8e2_8079_11ec_b31c_f40f242d5b1arow6_col2\" class=\"data row6 col2\" >0.092982</td>\n",
       "                        <td id=\"T_2bbbf8e2_8079_11ec_b31c_f40f242d5b1arow6_col3\" class=\"data row6 col3\" >0.207146</td>\n",
       "                        <td id=\"T_2bbbf8e2_8079_11ec_b31c_f40f242d5b1arow6_col4\" class=\"data row6 col4\" >0.544940</td>\n",
       "                        <td id=\"T_2bbbf8e2_8079_11ec_b31c_f40f242d5b1arow6_col5\" class=\"data row6 col5\" >1.000000</td>\n",
       "                        <td id=\"T_2bbbf8e2_8079_11ec_b31c_f40f242d5b1arow6_col6\" class=\"data row6 col6\" >1.000000</td>\n",
       "                        <td id=\"T_2bbbf8e2_8079_11ec_b31c_f40f242d5b1arow6_col7\" class=\"data row6 col7\" >0.662932</td>\n",
       "                        <td id=\"T_2bbbf8e2_8079_11ec_b31c_f40f242d5b1arow6_col8\" class=\"data row6 col8\" >0.544940</td>\n",
       "            </tr>\n",
       "            <tr>\n",
       "                        <th id=\"T_2bbbf8e2_8079_11ec_b31c_f40f242d5b1alevel0_row7\" class=\"row_heading level0 row7\" >rotten_tomato_rating</th>\n",
       "                        <td id=\"T_2bbbf8e2_8079_11ec_b31c_f40f242d5b1arow7_col0\" class=\"data row7 col0\" >0.287468</td>\n",
       "                        <td id=\"T_2bbbf8e2_8079_11ec_b31c_f40f242d5b1arow7_col1\" class=\"data row7 col1\" >0.146010</td>\n",
       "                        <td id=\"T_2bbbf8e2_8079_11ec_b31c_f40f242d5b1arow7_col2\" class=\"data row7 col2\" >0.005359</td>\n",
       "                        <td id=\"T_2bbbf8e2_8079_11ec_b31c_f40f242d5b1arow7_col3\" class=\"data row7 col3\" >0.131744</td>\n",
       "                        <td id=\"T_2bbbf8e2_8079_11ec_b31c_f40f242d5b1arow7_col4\" class=\"data row7 col4\" >0.789362</td>\n",
       "                        <td id=\"T_2bbbf8e2_8079_11ec_b31c_f40f242d5b1arow7_col5\" class=\"data row7 col5\" >0.662932</td>\n",
       "                        <td id=\"T_2bbbf8e2_8079_11ec_b31c_f40f242d5b1arow7_col6\" class=\"data row7 col6\" >0.662932</td>\n",
       "                        <td id=\"T_2bbbf8e2_8079_11ec_b31c_f40f242d5b1arow7_col7\" class=\"data row7 col7\" >1.000000</td>\n",
       "                        <td id=\"T_2bbbf8e2_8079_11ec_b31c_f40f242d5b1arow7_col8\" class=\"data row7 col8\" >0.789362</td>\n",
       "            </tr>\n",
       "            <tr>\n",
       "                        <th id=\"T_2bbbf8e2_8079_11ec_b31c_f40f242d5b1alevel0_row8\" class=\"row_heading level0 row8\" >metacritic_rating</th>\n",
       "                        <td id=\"T_2bbbf8e2_8079_11ec_b31c_f40f242d5b1arow8_col0\" class=\"data row8 col0\" >0.313106</td>\n",
       "                        <td id=\"T_2bbbf8e2_8079_11ec_b31c_f40f242d5b1arow8_col1\" class=\"data row8 col1\" >0.169221</td>\n",
       "                        <td id=\"T_2bbbf8e2_8079_11ec_b31c_f40f242d5b1arow8_col2\" class=\"data row8 col2\" >0.064433</td>\n",
       "                        <td id=\"T_2bbbf8e2_8079_11ec_b31c_f40f242d5b1arow8_col3\" class=\"data row8 col3\" >0.136701</td>\n",
       "                        <td id=\"T_2bbbf8e2_8079_11ec_b31c_f40f242d5b1arow8_col4\" class=\"data row8 col4\" >1.000000</td>\n",
       "                        <td id=\"T_2bbbf8e2_8079_11ec_b31c_f40f242d5b1arow8_col5\" class=\"data row8 col5\" >0.544940</td>\n",
       "                        <td id=\"T_2bbbf8e2_8079_11ec_b31c_f40f242d5b1arow8_col6\" class=\"data row8 col6\" >0.544940</td>\n",
       "                        <td id=\"T_2bbbf8e2_8079_11ec_b31c_f40f242d5b1arow8_col7\" class=\"data row8 col7\" >0.789362</td>\n",
       "                        <td id=\"T_2bbbf8e2_8079_11ec_b31c_f40f242d5b1arow8_col8\" class=\"data row8 col8\" >1.000000</td>\n",
       "            </tr>\n",
       "    </tbody></table>"
      ],
      "text/plain": [
       "<pandas.io.formats.style.Styler at 0x7fb50ff90048>"
      ]
     },
     "execution_count": 163,
     "metadata": {},
     "output_type": "execute_result"
    }
   ],
   "source": [
    "score_df= movie_df[['imdbvotes','boxoffice','budget','gross','metascore','imdbrating','internet_movie_database_rating','rotten_tomato_rating','metacritic_rating']]\n",
    "\n",
    "corr = score_df.corr()\n",
    "corr.style.background_gradient(cmap='coolwarm')\n"
   ]
  },
  {
   "cell_type": "markdown",
   "id": "efd82e88-d94b-4efa-ba9b-a7df973fccbf",
   "metadata": {},
   "source": [
    "### Checking if there is any strong positive relation between imdb rating and imdb votes"
   ]
  },
  {
   "cell_type": "code",
   "execution_count": 164,
   "id": "e7e1ec14-4d16-4275-8083-eea564fede90",
   "metadata": {},
   "outputs": [],
   "source": [
    "imdb_feedback=movie_df[['imdbrating','imdbvotes']]"
   ]
  },
  {
   "cell_type": "code",
   "execution_count": 165,
   "id": "056d088b-15b0-4523-adb9-cd80b14f2b8e",
   "metadata": {},
   "outputs": [
    {
     "data": {
      "text/plain": [
       "<seaborn.axisgrid.JointGrid at 0x7fb514d1fef0>"
      ]
     },
     "execution_count": 165,
     "metadata": {},
     "output_type": "execute_result"
    },
    {
     "data": {
      "image/png": "[encoded data removed]",
      "text/plain": [
       "<Figure size 432x432 with 3 Axes>"
      ]
     },
     "metadata": {
      "needs_background": "light"
     },
     "output_type": "display_data"
    }
   ],
   "source": [
    "sns.jointplot(x='imdbrating', y='imdbvotes', data=imdb_feedback)"
   ]
  },
  {
   "cell_type": "markdown",
   "id": "bc2cd3b5-f67b-48f3-895d-e64e644c3be1",
   "metadata": {},
   "source": [
    "### median budget in each genre"
   ]
  },
  {
   "cell_type": "code",
   "execution_count": 176,
   "id": "aa0320af-c544-4ca1-899b-47c9110fb35e",
   "metadata": {},
   "outputs": [
    {
     "data": {
      "text/plain": [
       "genre\n",
       "Animation    75500000.0\n",
       "Action       46000000.0\n",
       "Romance      37600000.0\n",
       "Mystery      32000000.0\n",
       "Sci-Fi       27000000.0\n",
       "Adventure    25000000.0\n",
       "Biography    15000000.0\n",
       "Comedy       13500000.0\n",
       "Fantasy      12000000.0\n",
       "Crime        10000000.0\n",
       "Thriller      8000000.0\n",
       "Horror        5000000.0\n",
       "Drama         3500000.0\n",
       "Family              0.0\n",
       "Musical             0.0\n",
       "Sport               0.0\n",
       "Name: budget, dtype: float64"
      ]
     },
     "execution_count": 176,
     "metadata": {},
     "output_type": "execute_result"
    }
   ],
   "source": [
    "movie_df.groupby('genre')['budget'].median().nlargest(16)"
   ]
  },
  {
   "cell_type": "markdown",
   "id": "78daa789-451a-4036-8eca-5ea4a14c9ce6",
   "metadata": {},
   "source": [
    "### Median gross amout for each genre"
   ]
  },
  {
   "cell_type": "code",
   "execution_count": 175,
   "id": "e7b53556-9b4f-4472-bda9-702fd9f9cf46",
   "metadata": {},
   "outputs": [
    {
     "data": {
      "text/plain": [
       "genre\n",
       "Animation    289319940.5\n",
       "Sci-Fi       161849455.0\n",
       "Mystery      135558194.0\n",
       "Action       108098767.5\n",
       "Adventure     83110217.0\n",
       "Romance       66834176.5\n",
       "Thriller      52425855.0\n",
       "Horror        39051010.0\n",
       "Fantasy       31595883.0\n",
       "Comedy        30642704.0\n",
       "Biography     24740061.0\n",
       "Drama         11122090.0\n",
       "Crime          9374932.0\n",
       "Musical        2595346.0\n",
       "Sport          1067629.0\n",
       "Family           20941.0\n",
       "Name: gross, dtype: float64"
      ]
     },
     "execution_count": 175,
     "metadata": {},
     "output_type": "execute_result"
    }
   ],
   "source": [
    "movie_df.groupby('genre')['gross'].median().nlargest(16)"
   ]
  },
  {
   "cell_type": "markdown",
   "id": "9f6da23a-b894-4d73-9925-ccb70dcd1544",
   "metadata": {},
   "source": [
    "### Median imdb votes in each genre"
   ]
  },
  {
   "cell_type": "code",
   "execution_count": 174,
   "id": "190ac099-746c-4d51-8ec2-05eb9aa7cfdc",
   "metadata": {},
   "outputs": [
    {
     "data": {
      "text/plain": [
       "genre\n",
       "Sci-Fi       552473.0\n",
       "Romance      317905.5\n",
       "Mystery      204982.0\n",
       "Action       129118.0\n",
       "Adventure     86522.0\n",
       "Animation     82333.5\n",
       "Fantasy       76053.0\n",
       "Comedy        59559.0\n",
       "Horror        56481.0\n",
       "Crime         55165.0\n",
       "Drama         47747.0\n",
       "Biography     47595.0\n",
       "Thriller      20261.0\n",
       "Sport           821.0\n",
       "Musical         595.0\n",
       "Family          185.0\n",
       "Name: imdbvotes, dtype: float64"
      ]
     },
     "execution_count": 174,
     "metadata": {},
     "output_type": "execute_result"
    }
   ],
   "source": [
    "movie_df.groupby('genre')['imdbvotes'].median().nlargest(16)"
   ]
  },
  {
   "cell_type": "markdown",
   "id": "48469ac0-c268-45d4-a52d-4f4f59573aa0",
   "metadata": {},
   "source": [
    "### Median runtime in each genre"
   ]
  },
  {
   "cell_type": "code",
   "execution_count": 173,
   "id": "4603b4f1-c2e7-49b0-9d57-236f68c804fe",
   "metadata": {},
   "outputs": [
    {
     "data": {
      "text/plain": [
       "genre\n",
       "Musical      145.0\n",
       "Mystery      117.0\n",
       "Biography    116.0\n",
       "Action       112.5\n",
       "Adventure    112.0\n",
       "Romance      111.0\n",
       "Crime        110.0\n",
       "Drama        109.0\n",
       "Sci-Fi       105.0\n",
       "Comedy       102.0\n",
       "Fantasy       99.5\n",
       "Animation     96.0\n",
       "Horror        95.0\n",
       "Sport         94.0\n",
       "Family        91.0\n",
       "Thriller      91.0\n",
       "Name: runtime, dtype: float64"
      ]
     },
     "execution_count": 173,
     "metadata": {},
     "output_type": "execute_result"
    }
   ],
   "source": [
    "movie_df.groupby('genre')['runtime'].median().nlargest(16)"
   ]
  },
  {
   "cell_type": "markdown",
   "id": "06eaac86-a8ca-4c1e-abfa-e581b12799d5",
   "metadata": {
    "tags": []
   },
   "source": [
    "### Statistical tests"
   ]
  },
  {
   "cell_type": "code",
   "execution_count": null,
   "id": "89c40dbd-2086-4909-9e99-93187142290f",
   "metadata": {},
   "outputs": [],
   "source": []
  }
 ],
 "metadata": {
  "kernelspec": {
   "display_name": "Python 3",
   "language": "python",
   "name": "python3"
  },
  "language_info": {
   "codemirror_mode": {
    "name": "ipython",
    "version": 3
   },
   "file_extension": ".py",
   "mimetype": "text/x-python",
   "name": "python",
   "nbconvert_exporter": "python",
   "pygments_lexer": "ipython3",
   "version": "3.6.13"
  }
 },
 "nbformat": 4,
 "nbformat_minor": 5
}
