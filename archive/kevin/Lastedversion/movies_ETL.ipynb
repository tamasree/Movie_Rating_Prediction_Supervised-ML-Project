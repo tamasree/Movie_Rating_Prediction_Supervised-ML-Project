{
 "cells": [
  {
   "cell_type": "markdown",
   "id": "a72da275",
   "metadata": {},
   "source": [
    "# Data Transfromation"
   ]
  },
  {
   "cell_type": "code",
   "execution_count": 1,
   "id": "04095a0a-ad94-4f5b-85e2-7de09b7157dc",
   "metadata": {},
   "outputs": [],
   "source": [
    "# Dependencies\n",
    "import pandas as pd\n",
    "import numpy as np\n",
    "import os\n",
    "import datetime"
   ]
  },
  {
   "cell_type": "markdown",
   "id": "cd0aa62f-ed4e-480e-bae1-f0a1645f2b89",
   "metadata": {},
   "source": [
    "#### Read CSV Files"
   ]
  },
  {
   "cell_type": "code",
   "execution_count": 2,
   "id": "b4cf71f5-065d-4b43-9163-85166b6bf796",
   "metadata": {},
   "outputs": [],
   "source": [
    "filepath= os.path.join('Resources','movies_2010_2011.csv')\n",
    "df_10_11=pd.read_csv(filepath)\n",
    "\n",
    "filepath= os.path.join('Resources','movies_2012_2013.csv')\n",
    "df_12_13=pd.read_csv(filepath)\n",
    "\n",
    "filepath= os.path.join('Resources','movies_2014.csv')\n",
    "df_14=pd.read_csv(filepath)\n",
    "\n",
    "filepath= os.path.join('Resources','movies_2014_2015.csv')\n",
    "df_14_15=pd.read_csv(filepath)\n",
    "                  \n",
    "filepath= os.path.join('Resources','movies_2016_2017.csv')\n",
    "df_16_17=pd.read_csv(filepath)  \n",
    "\n",
    "filepath= os.path.join('Resources','movies_2018_2019.csv')\n",
    "df_18_19=pd.read_csv(filepath)\n",
    "\n",
    "filepath= os.path.join('Resources','movies.csv')\n",
    "df_movies=pd.read_csv(filepath)\n",
    "                  "
   ]
  },
  {
   "cell_type": "markdown",
   "id": "ed6856af-3efd-4d04-b387-7598ecc0011d",
   "metadata": {},
   "source": [
    "#### Merging CSVs to make final dataset and cleaning data "
   ]
  },
  {
   "cell_type": "code",
   "execution_count": 3,
   "id": "1b38420a-e43d-4540-a724-9fe6b473e6b3",
   "metadata": {
    "tags": []
   },
   "outputs": [
    {
     "data": {
      "text/plain": [
       "Index(['name', 'rating', 'genre', 'year', 'released', 'score', 'votes',\n",
       "       'director', 'writer', 'star', 'country', 'budget', 'gross', 'company',\n",
       "       'runtime'],\n",
       "      dtype='object')"
      ]
     },
     "execution_count": 3,
     "metadata": {},
     "output_type": "execute_result"
    }
   ],
   "source": [
    "#Checking features from Kaggel dataset\n",
    "df_movies.columns"
   ]
  },
  {
   "cell_type": "code",
   "execution_count": 4,
   "id": "5aed6130-3c59-4b1c-99ed-f0e4db2cfb4d",
   "metadata": {},
   "outputs": [
    {
     "data": {
      "text/plain": [
       "Index(['Unnamed: 0', 'Title', 'Year', 'Rated', 'Released', 'Runtime', 'Genre',\n",
       "       'Director', 'Writer', 'Actors', 'Plot', 'Language', 'Country', 'Awards',\n",
       "       'Poster', 'Ratings', 'Metascore', 'imdbRating', 'imdbVotes', 'imdbID',\n",
       "       'Type', 'DVD', 'BoxOffice', 'Production', 'Website', 'Response',\n",
       "       'totalSeasons'],\n",
       "      dtype='object')"
      ]
     },
     "execution_count": 4,
     "metadata": {},
     "output_type": "execute_result"
    }
   ],
   "source": [
    "#Checking features from OMDB dataset\n",
    "df_14.columns"
   ]
  },
  {
   "cell_type": "code",
   "execution_count": 5,
   "id": "fe38157a-cffa-4cd8-a7de-d4c1ea8366fe",
   "metadata": {},
   "outputs": [],
   "source": [
    "#joining 10 years OMDB data\n",
    "frames = [df_10_11,df_12_13, df_14, df_14_15, df_16_17,df_18_19]\n",
    "\n",
    "movie_df= pd.concat(frames)"
   ]
  },
  {
   "cell_type": "code",
   "execution_count": 6,
   "id": "0719c982-b482-4ba5-9660-12c5e43e0175",
   "metadata": {},
   "outputs": [
    {
     "data": {
      "text/html": [
       "<div>\n",
       "<style scoped>\n",
       "    .dataframe tbody tr th:only-of-type {\n",
       "        vertical-align: middle;\n",
       "    }\n",
       "\n",
       "    .dataframe tbody tr th {\n",
       "        vertical-align: top;\n",
       "    }\n",
       "\n",
       "    .dataframe thead th {\n",
       "        text-align: right;\n",
       "    }\n",
       "</style>\n",
       "<table border=\"1\" class=\"dataframe\">\n",
       "  <thead>\n",
       "    <tr style=\"text-align: right;\">\n",
       "      <th></th>\n",
       "      <th>Unnamed: 0</th>\n",
       "      <th>Title</th>\n",
       "      <th>Year</th>\n",
       "      <th>Rated</th>\n",
       "      <th>Released</th>\n",
       "      <th>Runtime</th>\n",
       "      <th>Genre</th>\n",
       "      <th>Director</th>\n",
       "      <th>Writer</th>\n",
       "      <th>Actors</th>\n",
       "      <th>...</th>\n",
       "      <th>imdbVotes</th>\n",
       "      <th>imdbID</th>\n",
       "      <th>Type</th>\n",
       "      <th>DVD</th>\n",
       "      <th>BoxOffice</th>\n",
       "      <th>Production</th>\n",
       "      <th>Website</th>\n",
       "      <th>Response</th>\n",
       "      <th>totalSeasons</th>\n",
       "      <th>Error</th>\n",
       "    </tr>\n",
       "  </thead>\n",
       "  <tbody>\n",
       "    <tr>\n",
       "      <th>0</th>\n",
       "      <td>0</td>\n",
       "      <td>Inception</td>\n",
       "      <td>2010</td>\n",
       "      <td>PG-13</td>\n",
       "      <td>16 Jul 2010</td>\n",
       "      <td>148 min</td>\n",
       "      <td>Action, Adventure, Sci-Fi</td>\n",
       "      <td>Christopher Nolan</td>\n",
       "      <td>Christopher Nolan</td>\n",
       "      <td>Leonardo DiCaprio, Joseph Gordon-Levitt, Ellio...</td>\n",
       "      <td>...</td>\n",
       "      <td>2,223,702</td>\n",
       "      <td>tt1375666</td>\n",
       "      <td>movie</td>\n",
       "      <td>07 Dec 2010</td>\n",
       "      <td>$292,576,195</td>\n",
       "      <td>NaN</td>\n",
       "      <td>NaN</td>\n",
       "      <td>True</td>\n",
       "      <td>NaN</td>\n",
       "      <td>NaN</td>\n",
       "    </tr>\n",
       "    <tr>\n",
       "      <th>1</th>\n",
       "      <td>1</td>\n",
       "      <td>Iron Man 2</td>\n",
       "      <td>2010</td>\n",
       "      <td>PG-13</td>\n",
       "      <td>07 May 2010</td>\n",
       "      <td>124 min</td>\n",
       "      <td>Action, Adventure, Sci-Fi</td>\n",
       "      <td>Jon Favreau</td>\n",
       "      <td>Justin Theroux, Stan Lee, Don Heck</td>\n",
       "      <td>Robert Downey Jr., Mickey Rourke, Gwyneth Paltrow</td>\n",
       "      <td>...</td>\n",
       "      <td>771,885</td>\n",
       "      <td>tt1228705</td>\n",
       "      <td>movie</td>\n",
       "      <td>17 Aug 2010</td>\n",
       "      <td>$312,433,331</td>\n",
       "      <td>NaN</td>\n",
       "      <td>NaN</td>\n",
       "      <td>True</td>\n",
       "      <td>NaN</td>\n",
       "      <td>NaN</td>\n",
       "    </tr>\n",
       "    <tr>\n",
       "      <th>2</th>\n",
       "      <td>2</td>\n",
       "      <td>Shutter Island</td>\n",
       "      <td>2010</td>\n",
       "      <td>R</td>\n",
       "      <td>19 Feb 2010</td>\n",
       "      <td>138 min</td>\n",
       "      <td>Mystery, Thriller</td>\n",
       "      <td>Martin Scorsese</td>\n",
       "      <td>Laeta Kalogridis, Dennis Lehane</td>\n",
       "      <td>Leonardo DiCaprio, Emily Mortimer, Mark Ruffalo</td>\n",
       "      <td>...</td>\n",
       "      <td>1,225,928</td>\n",
       "      <td>tt1130884</td>\n",
       "      <td>movie</td>\n",
       "      <td>08 Jun 2010</td>\n",
       "      <td>$128,012,934</td>\n",
       "      <td>NaN</td>\n",
       "      <td>NaN</td>\n",
       "      <td>True</td>\n",
       "      <td>NaN</td>\n",
       "      <td>NaN</td>\n",
       "    </tr>\n",
       "    <tr>\n",
       "      <th>3</th>\n",
       "      <td>3</td>\n",
       "      <td>Scott Pilgrim vs. the World</td>\n",
       "      <td>2010</td>\n",
       "      <td>PG-13</td>\n",
       "      <td>13 Aug 2010</td>\n",
       "      <td>112 min</td>\n",
       "      <td>Action, Comedy, Fantasy</td>\n",
       "      <td>Edgar Wright</td>\n",
       "      <td>Michael Bacall, Edgar Wright, Bryan Lee O'Malley</td>\n",
       "      <td>Michael Cera, Mary Elizabeth Winstead, Kieran ...</td>\n",
       "      <td>...</td>\n",
       "      <td>409,720</td>\n",
       "      <td>tt0446029</td>\n",
       "      <td>movie</td>\n",
       "      <td>09 Nov 2010</td>\n",
       "      <td>$32,777,690</td>\n",
       "      <td>NaN</td>\n",
       "      <td>NaN</td>\n",
       "      <td>True</td>\n",
       "      <td>NaN</td>\n",
       "      <td>NaN</td>\n",
       "    </tr>\n",
       "    <tr>\n",
       "      <th>4</th>\n",
       "      <td>4</td>\n",
       "      <td>Grown Ups</td>\n",
       "      <td>2010</td>\n",
       "      <td>PG-13</td>\n",
       "      <td>25 Jun 2010</td>\n",
       "      <td>102 min</td>\n",
       "      <td>Comedy</td>\n",
       "      <td>Dennis Dugan</td>\n",
       "      <td>Adam Sandler, Fred Wolf</td>\n",
       "      <td>Adam Sandler, Salma Hayek, Kevin James</td>\n",
       "      <td>...</td>\n",
       "      <td>242,283</td>\n",
       "      <td>tt1375670</td>\n",
       "      <td>movie</td>\n",
       "      <td>09 Nov 2010</td>\n",
       "      <td>$162,001,186</td>\n",
       "      <td>NaN</td>\n",
       "      <td>NaN</td>\n",
       "      <td>True</td>\n",
       "      <td>NaN</td>\n",
       "      <td>NaN</td>\n",
       "    </tr>\n",
       "  </tbody>\n",
       "</table>\n",
       "<p>5 rows × 28 columns</p>\n",
       "</div>"
      ],
      "text/plain": [
       "   Unnamed: 0                        Title  Year  Rated     Released  Runtime  \\\n",
       "0           0                    Inception  2010  PG-13  16 Jul 2010  148 min   \n",
       "1           1                   Iron Man 2  2010  PG-13  07 May 2010  124 min   \n",
       "2           2               Shutter Island  2010      R  19 Feb 2010  138 min   \n",
       "3           3  Scott Pilgrim vs. the World  2010  PG-13  13 Aug 2010  112 min   \n",
       "4           4                    Grown Ups  2010  PG-13  25 Jun 2010  102 min   \n",
       "\n",
       "                       Genre           Director  \\\n",
       "0  Action, Adventure, Sci-Fi  Christopher Nolan   \n",
       "1  Action, Adventure, Sci-Fi        Jon Favreau   \n",
       "2          Mystery, Thriller    Martin Scorsese   \n",
       "3    Action, Comedy, Fantasy       Edgar Wright   \n",
       "4                     Comedy       Dennis Dugan   \n",
       "\n",
       "                                             Writer  \\\n",
       "0                                 Christopher Nolan   \n",
       "1                Justin Theroux, Stan Lee, Don Heck   \n",
       "2                   Laeta Kalogridis, Dennis Lehane   \n",
       "3  Michael Bacall, Edgar Wright, Bryan Lee O'Malley   \n",
       "4                           Adam Sandler, Fred Wolf   \n",
       "\n",
       "                                              Actors  ...  imdbVotes  \\\n",
       "0  Leonardo DiCaprio, Joseph Gordon-Levitt, Ellio...  ...  2,223,702   \n",
       "1  Robert Downey Jr., Mickey Rourke, Gwyneth Paltrow  ...    771,885   \n",
       "2    Leonardo DiCaprio, Emily Mortimer, Mark Ruffalo  ...  1,225,928   \n",
       "3  Michael Cera, Mary Elizabeth Winstead, Kieran ...  ...    409,720   \n",
       "4             Adam Sandler, Salma Hayek, Kevin James  ...    242,283   \n",
       "\n",
       "      imdbID   Type          DVD     BoxOffice Production  Website  Response  \\\n",
       "0  tt1375666  movie  07 Dec 2010  $292,576,195        NaN      NaN      True   \n",
       "1  tt1228705  movie  17 Aug 2010  $312,433,331        NaN      NaN      True   \n",
       "2  tt1130884  movie  08 Jun 2010  $128,012,934        NaN      NaN      True   \n",
       "3  tt0446029  movie  09 Nov 2010   $32,777,690        NaN      NaN      True   \n",
       "4  tt1375670  movie  09 Nov 2010  $162,001,186        NaN      NaN      True   \n",
       "\n",
       "  totalSeasons Error  \n",
       "0          NaN   NaN  \n",
       "1          NaN   NaN  \n",
       "2          NaN   NaN  \n",
       "3          NaN   NaN  \n",
       "4          NaN   NaN  \n",
       "\n",
       "[5 rows x 28 columns]"
      ]
     },
     "execution_count": 6,
     "metadata": {},
     "output_type": "execute_result"
    }
   ],
   "source": [
    "movie_df.head(5)"
   ]
  },
  {
   "cell_type": "code",
   "execution_count": 7,
   "id": "5d2da488-cd8b-4f0f-881d-6fadf1f599f2",
   "metadata": {},
   "outputs": [
    {
     "data": {
      "text/plain": [
       "(2000, 28)"
      ]
     },
     "execution_count": 7,
     "metadata": {},
     "output_type": "execute_result"
    }
   ],
   "source": [
    "movie_df.shape"
   ]
  },
  {
   "cell_type": "code",
   "execution_count": 8,
   "id": "3c7f013c-db36-4bfe-b322-17fc64e605d4",
   "metadata": {
    "tags": []
   },
   "outputs": [],
   "source": [
    "# drop unwanted columns\n",
    "movie_df=movie_df.drop('Unnamed: 0',axis=1)"
   ]
  },
  {
   "cell_type": "code",
   "execution_count": 9,
   "id": "921d238f-eb19-4cda-b531-dbe820ad4caa",
   "metadata": {},
   "outputs": [
    {
     "name": "stdout",
     "output_type": "stream",
     "text": [
      "<class 'pandas.core.frame.DataFrame'>\n",
      "Int64Index: 2000 entries, 0 to 399\n",
      "Data columns (total 27 columns):\n",
      " #   Column        Non-Null Count  Dtype  \n",
      "---  ------        --------------  -----  \n",
      " 0   Title         1796 non-null   object \n",
      " 1   Year          1796 non-null   object \n",
      " 2   Rated         1774 non-null   object \n",
      " 3   Released      1796 non-null   object \n",
      " 4   Runtime       1795 non-null   object \n",
      " 5   Genre         1796 non-null   object \n",
      " 6   Director      1787 non-null   object \n",
      " 7   Writer        1791 non-null   object \n",
      " 8   Actors        1796 non-null   object \n",
      " 9   Plot          1796 non-null   object \n",
      " 10  Language      1794 non-null   object \n",
      " 11  Country       1795 non-null   object \n",
      " 12  Awards        1673 non-null   object \n",
      " 13  Poster        1796 non-null   object \n",
      " 14  Ratings       1796 non-null   object \n",
      " 15  Metascore     1698 non-null   float64\n",
      " 16  imdbRating    1796 non-null   float64\n",
      " 17  imdbVotes     1796 non-null   object \n",
      " 18  imdbID        1796 non-null   object \n",
      " 19  Type          1796 non-null   object \n",
      " 20  DVD           1750 non-null   object \n",
      " 21  BoxOffice     1753 non-null   object \n",
      " 22  Production    9 non-null      object \n",
      " 23  Website       1 non-null      object \n",
      " 24  Response      2000 non-null   bool   \n",
      " 25  totalSeasons  9 non-null      float64\n",
      " 26  Error         204 non-null    object \n",
      "dtypes: bool(1), float64(3), object(23)\n",
      "memory usage: 423.8+ KB\n"
     ]
    }
   ],
   "source": [
    "movie_df.info()"
   ]
  },
  {
   "cell_type": "code",
   "execution_count": 10,
   "id": "1c892aaa-acbc-4899-92c9-332911ae239f",
   "metadata": {},
   "outputs": [
    {
     "data": {
      "text/plain": [
       "Title            204\n",
       "Year             204\n",
       "Rated            226\n",
       "Released         204\n",
       "Runtime          205\n",
       "Genre            204\n",
       "Director         213\n",
       "Writer           209\n",
       "Actors           204\n",
       "Plot             204\n",
       "Language         206\n",
       "Country          205\n",
       "Awards           327\n",
       "Poster           204\n",
       "Ratings          204\n",
       "Metascore        302\n",
       "imdbRating       204\n",
       "imdbVotes        204\n",
       "imdbID           204\n",
       "Type             204\n",
       "DVD              250\n",
       "BoxOffice        247\n",
       "Production      1991\n",
       "Website         1999\n",
       "Response           0\n",
       "totalSeasons    1991\n",
       "Error           1796\n",
       "dtype: int64"
      ]
     },
     "execution_count": 10,
     "metadata": {},
     "output_type": "execute_result"
    }
   ],
   "source": [
    "#checking number of null values in each column \n",
    "movie_df.isnull().sum()"
   ]
  },
  {
   "cell_type": "code",
   "execution_count": 11,
   "id": "1c8cae25-5bfb-48fc-89af-0cf97ad9774b",
   "metadata": {},
   "outputs": [],
   "source": [
    "#Taking some more extra features from kaggel dataset which are not present in OMDB dataset\n",
    "df_movies=df_movies[['name', 'genre', 'star', 'budget', 'gross']]\n",
    "df_movies=df_movies.rename(columns={'name':'Title'})\n"
   ]
  },
  {
   "cell_type": "code",
   "execution_count": 12,
   "id": "1e01bb39-2459-4403-92df-444670f92a36",
   "metadata": {},
   "outputs": [
    {
     "data": {
      "text/plain": [
       "Index(['Title', 'genre', 'star', 'budget', 'gross'], dtype='object')"
      ]
     },
     "execution_count": 12,
     "metadata": {},
     "output_type": "execute_result"
    }
   ],
   "source": [
    "df_movies.columns"
   ]
  },
  {
   "cell_type": "code",
   "execution_count": 13,
   "id": "5a31cd17-b1df-4265-99db-c63224fb2ed9",
   "metadata": {},
   "outputs": [
    {
     "data": {
      "text/plain": [
       "(1865, 31)"
      ]
     },
     "execution_count": 13,
     "metadata": {},
     "output_type": "execute_result"
    }
   ],
   "source": [
    "#merging OMDB dataset with extra features\n",
    "movie_df=movie_df.merge(df_movies,on='Title',how='inner')\n",
    "movie_df.shape"
   ]
  },
  {
   "cell_type": "code",
   "execution_count": 14,
   "id": "0b978b73-9590-4bd4-ad33-009435509abf",
   "metadata": {},
   "outputs": [
    {
     "data": {
      "text/plain": [
       "Index(['Title', 'Year', 'Rated', 'Released', 'Runtime', 'Genre', 'Director',\n",
       "       'Writer', 'Actors', 'Plot', 'Language', 'Country', 'Awards', 'Poster',\n",
       "       'Ratings', 'Metascore', 'imdbRating', 'imdbVotes', 'imdbID', 'Type',\n",
       "       'DVD', 'BoxOffice', 'Production', 'Website', 'Response', 'totalSeasons',\n",
       "       'Error', 'genre', 'star', 'budget', 'gross'],\n",
       "      dtype='object')"
      ]
     },
     "execution_count": 14,
     "metadata": {},
     "output_type": "execute_result"
    }
   ],
   "source": [
    "#Checking all column name on mergerd dataframe\n",
    "movie_df.columns"
   ]
  },
  {
   "cell_type": "code",
   "execution_count": 15,
   "id": "14469321-0737-4f4d-aa46-093d9e1a9945",
   "metadata": {},
   "outputs": [],
   "source": [
    "#dropping unwanted columns\n",
    "movie_df=movie_df.drop(['Year','Genre','imdbID','Production','Website','Poster','Type','totalSeasons','Error'],axis=1)"
   ]
  },
  {
   "cell_type": "code",
   "execution_count": 16,
   "id": "463752f9-0a55-4e12-afeb-23c30d555741",
   "metadata": {},
   "outputs": [
    {
     "data": {
      "text/plain": [
       "Title           0\n",
       "Rated          22\n",
       "Released        0\n",
       "Runtime         0\n",
       "Director       10\n",
       "Writer          4\n",
       "Actors          0\n",
       "Plot            0\n",
       "Language        3\n",
       "Country         1\n",
       "Awards        120\n",
       "Ratings         0\n",
       "Metascore      96\n",
       "imdbRating      0\n",
       "imdbVotes       0\n",
       "DVD            42\n",
       "BoxOffice      39\n",
       "Response        0\n",
       "genre           0\n",
       "star            0\n",
       "budget        436\n",
       "gross           8\n",
       "dtype: int64"
      ]
     },
     "execution_count": 16,
     "metadata": {},
     "output_type": "execute_result"
    }
   ],
   "source": [
    "#checking null values \n",
    "movie_df.isnull().sum()"
   ]
  },
  {
   "cell_type": "code",
   "execution_count": 17,
   "id": "68f99f63-5e0e-461e-a6ee-628d74154300",
   "metadata": {},
   "outputs": [
    {
     "data": {
      "text/plain": [
       "(1865, 22)"
      ]
     },
     "execution_count": 17,
     "metadata": {},
     "output_type": "execute_result"
    }
   ],
   "source": [
    "movie_df.shape"
   ]
  },
  {
   "cell_type": "code",
   "execution_count": 18,
   "id": "97c47fbd-bed9-460d-af0f-f548191aee8a",
   "metadata": {},
   "outputs": [
    {
     "name": "stdout",
     "output_type": "stream",
     "text": [
      "<class 'pandas.core.frame.DataFrame'>\n",
      "Int64Index: 1865 entries, 0 to 1864\n",
      "Data columns (total 22 columns):\n",
      " #   Column      Non-Null Count  Dtype  \n",
      "---  ------      --------------  -----  \n",
      " 0   Title       1865 non-null   object \n",
      " 1   Rated       1843 non-null   object \n",
      " 2   Released    1865 non-null   object \n",
      " 3   Runtime     1865 non-null   object \n",
      " 4   Director    1855 non-null   object \n",
      " 5   Writer      1861 non-null   object \n",
      " 6   Actors      1865 non-null   object \n",
      " 7   Plot        1865 non-null   object \n",
      " 8   Language    1862 non-null   object \n",
      " 9   Country     1864 non-null   object \n",
      " 10  Awards      1745 non-null   object \n",
      " 11  Ratings     1865 non-null   object \n",
      " 12  Metascore   1769 non-null   float64\n",
      " 13  imdbRating  1865 non-null   float64\n",
      " 14  imdbVotes   1865 non-null   object \n",
      " 15  DVD         1823 non-null   object \n",
      " 16  BoxOffice   1826 non-null   object \n",
      " 17  Response    1865 non-null   bool   \n",
      " 18  genre       1865 non-null   object \n",
      " 19  star        1865 non-null   object \n",
      " 20  budget      1429 non-null   float64\n",
      " 21  gross       1857 non-null   float64\n",
      "dtypes: bool(1), float64(4), object(17)\n",
      "memory usage: 322.4+ KB\n"
     ]
    }
   ],
   "source": [
    "movie_df.info()"
   ]
  },
  {
   "cell_type": "code",
   "execution_count": 19,
   "id": "36f0a0bc-883f-45f4-a59c-774b830ddf5c",
   "metadata": {},
   "outputs": [
    {
     "data": {
      "text/plain": [
       "dtype('<M8[ns]')"
      ]
     },
     "execution_count": 19,
     "metadata": {},
     "output_type": "execute_result"
    }
   ],
   "source": [
    "# changing released column to date type\n",
    "movie_df['Released'] = pd.to_datetime(movie_df['Released'], format='%d %b %Y')\n",
    "movie_df['Released'].dtype"
   ]
  },
  {
   "cell_type": "code",
   "execution_count": 20,
   "id": "c4f67ae8-25c7-4e78-9cea-21989ca01ad6",
   "metadata": {},
   "outputs": [],
   "source": [
    "# extracting year from released column as movie year\n",
    "movie_df['year']=pd.DatetimeIndex(movie_df['Released']).year"
   ]
  },
  {
   "cell_type": "code",
   "execution_count": 21,
   "id": "8ce44c4f-a80c-46ce-9be7-7c9aa2f40c5c",
   "metadata": {},
   "outputs": [
    {
     "data": {
      "text/plain": [
       "2019    210\n",
       "2015    209\n",
       "2011    208\n",
       "2012    197\n",
       "2018    190\n",
       "2014    166\n",
       "2017    158\n",
       "2010    155\n",
       "2016    150\n",
       "2013    123\n",
       "1982      8\n",
       "1984      8\n",
       "2007      7\n",
       "2020      7\n",
       "1991      6\n",
       "2004      5\n",
       "1989      4\n",
       "1988      4\n",
       "1987      4\n",
       "2006      4\n",
       "2005      4\n",
       "1990      4\n",
       "1997      3\n",
       "1995      3\n",
       "1978      2\n",
       "1939      2\n",
       "1921      2\n",
       "1992      2\n",
       "1993      2\n",
       "1994      2\n",
       "1998      2\n",
       "1999      2\n",
       "2000      2\n",
       "2003      2\n",
       "1977      1\n",
       "1976      1\n",
       "1973      1\n",
       "1971      1\n",
       "1959      1\n",
       "1955      1\n",
       "1941      1\n",
       "2021      1\n",
       "Name: year, dtype: int64"
      ]
     },
     "execution_count": 21,
     "metadata": {},
     "output_type": "execute_result"
    }
   ],
   "source": [
    "movie_df['year'].value_counts()"
   ]
  },
  {
   "cell_type": "code",
   "execution_count": 22,
   "id": "75b50fc3-0831-4d06-88f3-116358c56c34",
   "metadata": {},
   "outputs": [],
   "source": [
    "movie_df=movie_df.loc[movie_df['year']>=2010,:]"
   ]
  },
  {
   "cell_type": "code",
   "execution_count": 23,
   "id": "0ed904de-1414-4211-8ae7-8eeae5edea15",
   "metadata": {},
   "outputs": [
    {
     "data": {
      "text/plain": [
       "(1774, 23)"
      ]
     },
     "execution_count": 23,
     "metadata": {},
     "output_type": "execute_result"
    }
   ],
   "source": [
    "movie_df.shape"
   ]
  },
  {
   "cell_type": "code",
   "execution_count": 24,
   "id": "4ea975dd-a5ba-4bfc-bd9b-0b478ea09779",
   "metadata": {},
   "outputs": [],
   "source": [
    "#splitting strings of column runtime\n",
    "movie_df['Runtime']=movie_df['Runtime'].str.split(' ').str[0]"
   ]
  },
  {
   "cell_type": "code",
   "execution_count": 25,
   "id": "f5e293e6-3a8a-4e89-8528-25949651e6d8",
   "metadata": {},
   "outputs": [],
   "source": [
    "# changing col dtypes\n",
    "movie_df['Runtime']=pd.to_numeric(movie_df['Runtime'],errors='coerce')\n",
    "movie_df['Metascore']=pd.to_numeric(movie_df['Metascore'],errors='coerce')\n",
    "movie_df['imdbRating']=pd.to_numeric(movie_df['imdbRating'],errors='coerce')"
   ]
  },
  {
   "cell_type": "code",
   "execution_count": 26,
   "id": "3712c83b-3e9b-4f0c-ac1a-6bd6ef614576",
   "metadata": {},
   "outputs": [],
   "source": [
    "movie_df['imdbVotes']=movie_df['imdbVotes'].apply(lambda x:int(x.replace(',','')))"
   ]
  },
  {
   "cell_type": "code",
   "execution_count": 27,
   "id": "4f90ba44-488b-4635-a3a4-419e60bd9dc8",
   "metadata": {},
   "outputs": [],
   "source": [
    "movie_df['BoxOffice']=movie_df['BoxOffice'].str.replace('$','').replace(to_replace=',',value='', regex = True)"
   ]
  },
  {
   "cell_type": "code",
   "execution_count": 28,
   "id": "b73e7270-0809-435e-813b-4461cb972973",
   "metadata": {},
   "outputs": [],
   "source": [
    "movie_df['BoxOffice']=pd.to_numeric(movie_df['BoxOffice'],errors='coerce')"
   ]
  },
  {
   "cell_type": "code",
   "execution_count": 29,
   "id": "8a6bbaca-5eee-4fd4-bc22-4f7e747a274f",
   "metadata": {},
   "outputs": [
    {
     "data": {
      "text/plain": [
       "0       292576195.0\n",
       "1       312433331.0\n",
       "2       128012934.0\n",
       "3        32777690.0\n",
       "4       162001186.0\n",
       "           ...     \n",
       "1860       196634.0\n",
       "1861        20941.0\n",
       "1862      1101470.0\n",
       "1863            NaN\n",
       "1864       539524.0\n",
       "Name: BoxOffice, Length: 1774, dtype: float64"
      ]
     },
     "execution_count": 29,
     "metadata": {},
     "output_type": "execute_result"
    }
   ],
   "source": [
    "movie_df['BoxOffice']"
   ]
  },
  {
   "cell_type": "code",
   "execution_count": 30,
   "id": "15d4b014-56c0-4e5d-89e7-1d566c2b11a9",
   "metadata": {},
   "outputs": [],
   "source": [
    "# making col for internet_movie_database_rating\n",
    "movie_df1=movie_df.copy()\n",
    "movie_df['internet_movie_database_rating']= movie_df1['Ratings']\\\n",
    "    .apply(lambda x: float(x.split(',')[1].split(':')[1].replace('\\'','').replace('}','').strip().split('/')[0]))\n"
   ]
  },
  {
   "cell_type": "code",
   "execution_count": 31,
   "id": "406e43f8-1e81-48b0-9b06-514f04d433fd",
   "metadata": {},
   "outputs": [],
   "source": [
    "def rotten_tomato(x):\n",
    "    score_array= x.split(',')\n",
    "    if \" {'Source': 'Rotten Tomatoes'\" in score_array:\n",
    "        score_index=score_array.index(\" {'Source': 'Rotten Tomatoes'\")+1\n",
    "        \n",
    "        return float(score_array[score_index].split(':')[1].replace('}','').strip().replace('%','').replace('\\'','').replace(']',''))\n",
    "    else:\n",
    "        return 0\n",
    "movie_df2= movie_df.copy()      \n",
    "movie_df['rotten_tomato_rating']= movie_df2['Ratings'].apply(rotten_tomato)  \n"
   ]
  },
  {
   "cell_type": "code",
   "execution_count": 32,
   "id": "8dd02fb9-5760-4e86-8f43-0b9979a58e5e",
   "metadata": {},
   "outputs": [],
   "source": [
    "def metacritic(x):\n",
    "    score_array= x.split(',')\n",
    "    if \" {'Source': 'Metacritic'\" in score_array:\n",
    "        score_index=score_array.index(\" {'Source': 'Metacritic'\")+1\n",
    "        \n",
    "        return float(score_array[score_index].split(':')[1].replace('}','').replace(']','').split('/')[0].strip().replace('\\'',''))\n",
    "    else:\n",
    "        return 0\n",
    "movie_df3= movie_df.copy()      \n",
    "movie_df['metacritic_rating']= movie_df3['Ratings'].apply(metacritic)  \n",
    "    "
   ]
  },
  {
   "cell_type": "code",
   "execution_count": 33,
   "id": "78dd16c9-5a90-41cf-afb1-6b6e7bbb8baa",
   "metadata": {},
   "outputs": [
    {
     "name": "stdout",
     "output_type": "stream",
     "text": [
      "<class 'pandas.core.frame.DataFrame'>\n",
      "Int64Index: 1774 entries, 0 to 1864\n",
      "Data columns (total 26 columns):\n",
      " #   Column                          Non-Null Count  Dtype         \n",
      "---  ------                          --------------  -----         \n",
      " 0   Title                           1774 non-null   object        \n",
      " 1   Rated                           1753 non-null   object        \n",
      " 2   Released                        1774 non-null   datetime64[ns]\n",
      " 3   Runtime                         1774 non-null   int64         \n",
      " 4   Director                        1766 non-null   object        \n",
      " 5   Writer                          1771 non-null   object        \n",
      " 6   Actors                          1774 non-null   object        \n",
      " 7   Plot                            1774 non-null   object        \n",
      " 8   Language                        1771 non-null   object        \n",
      " 9   Country                         1773 non-null   object        \n",
      " 10  Awards                          1654 non-null   object        \n",
      " 11  Ratings                         1774 non-null   object        \n",
      " 12  Metascore                       1686 non-null   float64       \n",
      " 13  imdbRating                      1774 non-null   float64       \n",
      " 14  imdbVotes                       1774 non-null   int64         \n",
      " 15  DVD                             1736 non-null   object        \n",
      " 16  BoxOffice                       1744 non-null   float64       \n",
      " 17  Response                        1774 non-null   bool          \n",
      " 18  genre                           1774 non-null   object        \n",
      " 19  star                            1774 non-null   object        \n",
      " 20  budget                          1352 non-null   float64       \n",
      " 21  gross                           1767 non-null   float64       \n",
      " 22  year                            1774 non-null   int64         \n",
      " 23  internet_movie_database_rating  1774 non-null   float64       \n",
      " 24  rotten_tomato_rating            1774 non-null   float64       \n",
      " 25  metacritic_rating               1774 non-null   float64       \n",
      "dtypes: bool(1), datetime64[ns](1), float64(8), int64(3), object(13)\n",
      "memory usage: 362.1+ KB\n"
     ]
    }
   ],
   "source": [
    "movie_df.info()"
   ]
  },
  {
   "cell_type": "code",
   "execution_count": 34,
   "id": "a8cc01ad-a19a-4903-a9e5-c98ee05cfdcd",
   "metadata": {
    "tags": []
   },
   "outputs": [],
   "source": [
    "movie_df=movie_df.drop('Ratings',axis=1)"
   ]
  },
  {
   "cell_type": "code",
   "execution_count": 35,
   "id": "c6cd3f99-2a43-48f7-afc5-69e4a6d24ce6",
   "metadata": {},
   "outputs": [
    {
     "data": {
      "text/plain": [
       "Title                               0\n",
       "Rated                              21\n",
       "Released                            0\n",
       "Runtime                             0\n",
       "Director                            8\n",
       "Writer                              3\n",
       "Actors                              0\n",
       "Plot                                0\n",
       "Language                            3\n",
       "Country                             1\n",
       "Awards                            120\n",
       "Metascore                          88\n",
       "imdbRating                          0\n",
       "imdbVotes                           0\n",
       "DVD                                38\n",
       "BoxOffice                          30\n",
       "Response                            0\n",
       "genre                               0\n",
       "star                                0\n",
       "budget                            422\n",
       "gross                               7\n",
       "year                                0\n",
       "internet_movie_database_rating      0\n",
       "rotten_tomato_rating                0\n",
       "metacritic_rating                   0\n",
       "dtype: int64"
      ]
     },
     "execution_count": 35,
     "metadata": {},
     "output_type": "execute_result"
    }
   ],
   "source": [
    "movie_df.isnull().sum()"
   ]
  },
  {
   "cell_type": "code",
   "execution_count": 36,
   "id": "e478bd54-11e0-4d63-8045-29ccfa9aeed2",
   "metadata": {},
   "outputs": [
    {
     "data": {
      "text/html": [
       "<div>\n",
       "<style scoped>\n",
       "    .dataframe tbody tr th:only-of-type {\n",
       "        vertical-align: middle;\n",
       "    }\n",
       "\n",
       "    .dataframe tbody tr th {\n",
       "        vertical-align: top;\n",
       "    }\n",
       "\n",
       "    .dataframe thead th {\n",
       "        text-align: right;\n",
       "    }\n",
       "</style>\n",
       "<table border=\"1\" class=\"dataframe\">\n",
       "  <thead>\n",
       "    <tr style=\"text-align: right;\">\n",
       "      <th></th>\n",
       "      <th>Title</th>\n",
       "      <th>Rated</th>\n",
       "      <th>Released</th>\n",
       "      <th>Runtime</th>\n",
       "      <th>Director</th>\n",
       "      <th>Writer</th>\n",
       "      <th>Actors</th>\n",
       "      <th>Plot</th>\n",
       "      <th>Language</th>\n",
       "      <th>Country</th>\n",
       "      <th>...</th>\n",
       "      <th>BoxOffice</th>\n",
       "      <th>Response</th>\n",
       "      <th>genre</th>\n",
       "      <th>star</th>\n",
       "      <th>budget</th>\n",
       "      <th>gross</th>\n",
       "      <th>year</th>\n",
       "      <th>internet_movie_database_rating</th>\n",
       "      <th>rotten_tomato_rating</th>\n",
       "      <th>metacritic_rating</th>\n",
       "    </tr>\n",
       "  </thead>\n",
       "  <tbody>\n",
       "    <tr>\n",
       "      <th>0</th>\n",
       "      <td>Inception</td>\n",
       "      <td>PG-13</td>\n",
       "      <td>2010-07-16</td>\n",
       "      <td>148</td>\n",
       "      <td>Christopher Nolan</td>\n",
       "      <td>Christopher Nolan</td>\n",
       "      <td>Leonardo DiCaprio, Joseph Gordon-Levitt, Ellio...</td>\n",
       "      <td>A thief who steals corporate secrets through t...</td>\n",
       "      <td>English, Japanese, French</td>\n",
       "      <td>United Kingdom, United States</td>\n",
       "      <td>...</td>\n",
       "      <td>292576195.0</td>\n",
       "      <td>True</td>\n",
       "      <td>Action</td>\n",
       "      <td>Leonardo DiCaprio</td>\n",
       "      <td>160000000.0</td>\n",
       "      <td>836836967.0</td>\n",
       "      <td>2010</td>\n",
       "      <td>8.8</td>\n",
       "      <td>87.0</td>\n",
       "      <td>74.0</td>\n",
       "    </tr>\n",
       "    <tr>\n",
       "      <th>1</th>\n",
       "      <td>Iron Man 2</td>\n",
       "      <td>PG-13</td>\n",
       "      <td>2010-05-07</td>\n",
       "      <td>124</td>\n",
       "      <td>Jon Favreau</td>\n",
       "      <td>Justin Theroux, Stan Lee, Don Heck</td>\n",
       "      <td>Robert Downey Jr., Mickey Rourke, Gwyneth Paltrow</td>\n",
       "      <td>With the world now aware of his identity as Ir...</td>\n",
       "      <td>English, French, Russian</td>\n",
       "      <td>United States</td>\n",
       "      <td>...</td>\n",
       "      <td>312433331.0</td>\n",
       "      <td>True</td>\n",
       "      <td>Action</td>\n",
       "      <td>Robert Downey Jr.</td>\n",
       "      <td>200000000.0</td>\n",
       "      <td>623933331.0</td>\n",
       "      <td>2010</td>\n",
       "      <td>7.0</td>\n",
       "      <td>72.0</td>\n",
       "      <td>57.0</td>\n",
       "    </tr>\n",
       "    <tr>\n",
       "      <th>2</th>\n",
       "      <td>Shutter Island</td>\n",
       "      <td>R</td>\n",
       "      <td>2010-02-19</td>\n",
       "      <td>138</td>\n",
       "      <td>Martin Scorsese</td>\n",
       "      <td>Laeta Kalogridis, Dennis Lehane</td>\n",
       "      <td>Leonardo DiCaprio, Emily Mortimer, Mark Ruffalo</td>\n",
       "      <td>In 1954, a U.S. Marshal investigates the disap...</td>\n",
       "      <td>English, German</td>\n",
       "      <td>United States</td>\n",
       "      <td>...</td>\n",
       "      <td>128012934.0</td>\n",
       "      <td>True</td>\n",
       "      <td>Mystery</td>\n",
       "      <td>Leonardo DiCaprio</td>\n",
       "      <td>80000000.0</td>\n",
       "      <td>294805697.0</td>\n",
       "      <td>2010</td>\n",
       "      <td>8.2</td>\n",
       "      <td>68.0</td>\n",
       "      <td>63.0</td>\n",
       "    </tr>\n",
       "    <tr>\n",
       "      <th>3</th>\n",
       "      <td>Scott Pilgrim vs. the World</td>\n",
       "      <td>PG-13</td>\n",
       "      <td>2010-08-13</td>\n",
       "      <td>112</td>\n",
       "      <td>Edgar Wright</td>\n",
       "      <td>Michael Bacall, Edgar Wright, Bryan Lee O'Malley</td>\n",
       "      <td>Michael Cera, Mary Elizabeth Winstead, Kieran ...</td>\n",
       "      <td>In a magically realistic version of Toronto, a...</td>\n",
       "      <td>English</td>\n",
       "      <td>United States, United Kingdom, Canada, Japan</td>\n",
       "      <td>...</td>\n",
       "      <td>32777690.0</td>\n",
       "      <td>True</td>\n",
       "      <td>Action</td>\n",
       "      <td>Michael Cera</td>\n",
       "      <td>60000000.0</td>\n",
       "      <td>48917974.0</td>\n",
       "      <td>2010</td>\n",
       "      <td>7.5</td>\n",
       "      <td>82.0</td>\n",
       "      <td>69.0</td>\n",
       "    </tr>\n",
       "    <tr>\n",
       "      <th>4</th>\n",
       "      <td>Grown Ups</td>\n",
       "      <td>PG-13</td>\n",
       "      <td>2010-06-25</td>\n",
       "      <td>102</td>\n",
       "      <td>Dennis Dugan</td>\n",
       "      <td>Adam Sandler, Fred Wolf</td>\n",
       "      <td>Adam Sandler, Salma Hayek, Kevin James</td>\n",
       "      <td>After their high school basketball coach passe...</td>\n",
       "      <td>English, Spanish</td>\n",
       "      <td>United States</td>\n",
       "      <td>...</td>\n",
       "      <td>162001186.0</td>\n",
       "      <td>True</td>\n",
       "      <td>Comedy</td>\n",
       "      <td>Adam Sandler</td>\n",
       "      <td>80000000.0</td>\n",
       "      <td>271457301.0</td>\n",
       "      <td>2010</td>\n",
       "      <td>6.0</td>\n",
       "      <td>11.0</td>\n",
       "      <td>30.0</td>\n",
       "    </tr>\n",
       "  </tbody>\n",
       "</table>\n",
       "<p>5 rows × 25 columns</p>\n",
       "</div>"
      ],
      "text/plain": [
       "                         Title  Rated   Released  Runtime           Director  \\\n",
       "0                    Inception  PG-13 2010-07-16      148  Christopher Nolan   \n",
       "1                   Iron Man 2  PG-13 2010-05-07      124        Jon Favreau   \n",
       "2               Shutter Island      R 2010-02-19      138    Martin Scorsese   \n",
       "3  Scott Pilgrim vs. the World  PG-13 2010-08-13      112       Edgar Wright   \n",
       "4                    Grown Ups  PG-13 2010-06-25      102       Dennis Dugan   \n",
       "\n",
       "                                             Writer  \\\n",
       "0                                 Christopher Nolan   \n",
       "1                Justin Theroux, Stan Lee, Don Heck   \n",
       "2                   Laeta Kalogridis, Dennis Lehane   \n",
       "3  Michael Bacall, Edgar Wright, Bryan Lee O'Malley   \n",
       "4                           Adam Sandler, Fred Wolf   \n",
       "\n",
       "                                              Actors  \\\n",
       "0  Leonardo DiCaprio, Joseph Gordon-Levitt, Ellio...   \n",
       "1  Robert Downey Jr., Mickey Rourke, Gwyneth Paltrow   \n",
       "2    Leonardo DiCaprio, Emily Mortimer, Mark Ruffalo   \n",
       "3  Michael Cera, Mary Elizabeth Winstead, Kieran ...   \n",
       "4             Adam Sandler, Salma Hayek, Kevin James   \n",
       "\n",
       "                                                Plot  \\\n",
       "0  A thief who steals corporate secrets through t...   \n",
       "1  With the world now aware of his identity as Ir...   \n",
       "2  In 1954, a U.S. Marshal investigates the disap...   \n",
       "3  In a magically realistic version of Toronto, a...   \n",
       "4  After their high school basketball coach passe...   \n",
       "\n",
       "                    Language                                       Country  \\\n",
       "0  English, Japanese, French                 United Kingdom, United States   \n",
       "1   English, French, Russian                                 United States   \n",
       "2            English, German                                 United States   \n",
       "3                    English  United States, United Kingdom, Canada, Japan   \n",
       "4           English, Spanish                                 United States   \n",
       "\n",
       "   ...    BoxOffice  Response    genre               star       budget  \\\n",
       "0  ...  292576195.0      True   Action  Leonardo DiCaprio  160000000.0   \n",
       "1  ...  312433331.0      True   Action  Robert Downey Jr.  200000000.0   \n",
       "2  ...  128012934.0      True  Mystery  Leonardo DiCaprio   80000000.0   \n",
       "3  ...   32777690.0      True   Action       Michael Cera   60000000.0   \n",
       "4  ...  162001186.0      True   Comedy       Adam Sandler   80000000.0   \n",
       "\n",
       "         gross  year internet_movie_database_rating rotten_tomato_rating  \\\n",
       "0  836836967.0  2010                            8.8                 87.0   \n",
       "1  623933331.0  2010                            7.0                 72.0   \n",
       "2  294805697.0  2010                            8.2                 68.0   \n",
       "3   48917974.0  2010                            7.5                 82.0   \n",
       "4  271457301.0  2010                            6.0                 11.0   \n",
       "\n",
       "   metacritic_rating  \n",
       "0               74.0  \n",
       "1               57.0  \n",
       "2               63.0  \n",
       "3               69.0  \n",
       "4               30.0  \n",
       "\n",
       "[5 rows x 25 columns]"
      ]
     },
     "execution_count": 36,
     "metadata": {},
     "output_type": "execute_result"
    }
   ],
   "source": [
    "movie_df.head(5)"
   ]
  },
  {
   "cell_type": "code",
   "execution_count": 37,
   "id": "b9ec6078-190e-419b-90e8-05d3f52b3604",
   "metadata": {},
   "outputs": [],
   "source": [
    "# changing all column header to lower case\n",
    "movie_df.columns = [x.lower() for x in movie_df.columns]"
   ]
  },
  {
   "cell_type": "code",
   "execution_count": 38,
   "id": "272be5e4-ad01-46c5-a812-8f77931a50d8",
   "metadata": {},
   "outputs": [],
   "source": [
    "movie_df[\"rated\"].fillna(\"NA\", inplace = True)\n",
    "movie_df[\"director\"].fillna(\"NA\", inplace = True)\n",
    "movie_df[\"writer\"].fillna(\"NA\", inplace = True)\n",
    "movie_df[\"language\"].fillna(\"NA\", inplace = True)\n",
    "movie_df[\"country\"].fillna(\"NA\", inplace = True)\n",
    "movie_df[\"awards\"].fillna(\"NA\", inplace = True)\n",
    "movie_df[\"metascore\"].fillna(0, inplace = True)\n",
    "movie_df[\"dvd\"].fillna(\"NA\", inplace = True)\n",
    "movie_df[\"boxoffice\"].fillna(0, inplace = True)\n",
    "movie_df[\"budget\"].fillna(0, inplace = True)\n",
    "movie_df[\"gross\"].fillna(0, inplace = True)\n"
   ]
  },
  {
   "cell_type": "code",
   "execution_count": 39,
   "id": "a10b2f80-cc94-4627-957b-71cc9e371fd3",
   "metadata": {},
   "outputs": [
    {
     "data": {
      "text/plain": [
       "title                             0\n",
       "rated                             0\n",
       "released                          0\n",
       "runtime                           0\n",
       "director                          0\n",
       "writer                            0\n",
       "actors                            0\n",
       "plot                              0\n",
       "language                          0\n",
       "country                           0\n",
       "awards                            0\n",
       "metascore                         0\n",
       "imdbrating                        0\n",
       "imdbvotes                         0\n",
       "dvd                               0\n",
       "boxoffice                         0\n",
       "response                          0\n",
       "genre                             0\n",
       "star                              0\n",
       "budget                            0\n",
       "gross                             0\n",
       "year                              0\n",
       "internet_movie_database_rating    0\n",
       "rotten_tomato_rating              0\n",
       "metacritic_rating                 0\n",
       "dtype: int64"
      ]
     },
     "execution_count": 39,
     "metadata": {},
     "output_type": "execute_result"
    }
   ],
   "source": [
    "movie_df.isnull().sum()"
   ]
  },
  {
   "cell_type": "code",
   "execution_count": 40,
   "id": "3ddfdc7f-d6c0-4ba4-a0cb-0618db484b93",
   "metadata": {},
   "outputs": [],
   "source": [
    "#making clean csv \n",
    "movie_df.to_csv('resources/cleaned_data.csv',index=False)"
   ]
  }
 ],
 "metadata": {
  "kernelspec": {
   "display_name": "Python 3",
   "language": "python",
   "name": "python3"
  },
  "language_info": {
   "codemirror_mode": {
    "name": "ipython",
    "version": 3
   },
   "file_extension": ".py",
   "mimetype": "text/x-python",
   "name": "python",
   "nbconvert_exporter": "python",
   "pygments_lexer": "ipython3",
   "version": "3.6.15"
  }
 },
 "nbformat": 4,
 "nbformat_minor": 5
}
